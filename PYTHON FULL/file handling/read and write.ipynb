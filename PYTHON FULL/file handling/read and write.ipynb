{
 "cells": [
  {
   "cell_type": "code",
   "execution_count": 6,
   "id": "8c414f2a",
   "metadata": {},
   "outputs": [
    {
     "name": "stdout",
     "output_type": "stream",
     "text": [
      "my name is sujal\n",
      "i am a student\n",
      "i am 20 years old\n",
      "my surname is didwaniya\n",
      "my name is sujal\n",
      "i am a student\n",
      "i am 20 years old\n",
      "my surname is didwaniya\n"
     ]
    }
   ],
   "source": [
    "with open(\"reference.txt\",\"r\") as file:\n",
    "    reader=file.read()\n",
    "    print(reader)\n",
    "\n",
    "with open(\"reference.txt\",\"r\") as file:\n",
    "     for line in file:\n",
    "          print(line.strip())\n",
    "       "
   ]
  },
  {
   "cell_type": "code",
   "execution_count": 10,
   "id": "de8bce09",
   "metadata": {},
   "outputs": [
    {
     "name": "stdout",
     "output_type": "stream",
     "text": [
      "hello\n",
      "my name is sujal\n",
      "i am 20 years old\n"
     ]
    }
   ],
   "source": [
    "#write in file (overwriting)\n",
    "\n",
    "with open(\"reference.txt\",\"w\") as file:\n",
    "    file.write(\"hello\\n\")\n",
    "    file.write(\"my name is sujal\\n\")\n",
    "    file.write(\"i am 20 years old\")\n",
    "\n",
    "with open(\"reference.txt\",\"r\") as file:\n",
    "    content=file.read()\n",
    "    print(content)"
   ]
  },
  {
   "cell_type": "code",
   "execution_count": 12,
   "id": "207c4133",
   "metadata": {},
   "outputs": [
    {
     "name": "stdout",
     "output_type": "stream",
     "text": [
      "hello\n",
      "my name is sujal\n",
      "i am 20 years oldmy surname is didwaniya\n",
      "i am a studentmy surname is didwaniya\n",
      "i am a student\n"
     ]
    }
   ],
   "source": [
    "#write in file (without overwriting)  use append mode as \"\"read and write.ipynb\"\n",
    "\n",
    "with open(\"reference.txt\",\"a\")as file:\n",
    "    file.write(\"my surname is didwaniya\\n\")\n",
    "    file.write(\"i am a student\")\n",
    "\n",
    "with open(\"reference.txt\",\"r\")as file:\n",
    "    for line in file:\n",
    "        print(line.strip())\n"
   ]
  },
  {
   "cell_type": "code",
   "execution_count": 14,
   "id": "fac0b45d",
   "metadata": {},
   "outputs": [
    {
     "name": "stdout",
     "output_type": "stream",
     "text": [
      "hello\n",
      "my name is sujal\n",
      "i am 20 years oldmy surname is didwaniya\n",
      "i am a studentmy surname is didwaniya\n",
      "i am a studenthow are you doing\n",
      "good\n",
      "me alsohow are you doing\n",
      "good\n",
      "me also\n"
     ]
    }
   ],
   "source": [
    "#write multiple lines\n",
    "\n",
    "lines=[\"how are you doing\\n\",\"good\\n\",\"me also\"]\n",
    "\n",
    "with open(\"reference.txt\",\"a\")as file:\n",
    "    file.writelines(lines)\n",
    "\n",
    "with open(\"reference.txt\",\"r\")as file:\n",
    "    content=file.read()\n",
    "    print(content)\n"
   ]
  },
  {
   "cell_type": "code",
   "execution_count": 15,
   "id": "34ffac7b",
   "metadata": {},
   "outputs": [],
   "source": [
    "#reading from one file and copy that to another file\n",
    "\n",
    "with open(\"reference.txt\",\"r\")as file:\n",
    "    content=file.read()\n",
    "\n",
    "with open(\"destination.txt\",\"w\")as copiedfile:\n",
    "    copiedfile.write(content)"
   ]
  },
  {
   "cell_type": "code",
   "execution_count": null,
   "id": "c9c8e594",
   "metadata": {},
   "outputs": [
    {
     "name": "stdout",
     "output_type": "stream",
     "text": [
      "hello\n",
      "my name is sujal\n"
     ]
    }
   ],
   "source": [
    "#writing and then reading from file  using \"w+\"mode\n",
    "\n",
    "with open(\"reference2.txt\",\"w+\") as file:\n",
    "    file.write(\"hello\\n\")\n",
    "    file.write(\"my name is sujal\")\n",
    "\n",
    "    file.seek(0)                  #this will move the curson to the beginning at hello\n",
    "    content=file.read()\n",
    "    print(content)"
   ]
  },
  {
   "cell_type": "code",
   "execution_count": null,
   "id": "70a0eddb",
   "metadata": {},
   "outputs": [],
   "source": []
  }
 ],
 "metadata": {
  "kernelspec": {
   "display_name": "Python 3",
   "language": "python",
   "name": "python3"
  },
  "language_info": {
   "codemirror_mode": {
    "name": "ipython",
    "version": 3
   },
   "file_extension": ".py",
   "mimetype": "text/x-python",
   "name": "python",
   "nbconvert_exporter": "python",
   "pygments_lexer": "ipython3",
   "version": "3.12.0"
  }
 },
 "nbformat": 4,
 "nbformat_minor": 5
}
