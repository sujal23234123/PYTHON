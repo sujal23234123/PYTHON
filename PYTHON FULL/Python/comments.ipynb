{
 "cells": [
  {
   "cell_type": "markdown",
   "id": "8fc033ad",
   "metadata": {},
   "source": [
    "Comments can be used to explain Python code.\n",
    "\n",
    "Comments can be used to make the code more readable.\n",
    "\n",
    "Comments can be used to prevent execution when testing code"
   ]
  },
  {
   "cell_type": "code",
   "execution_count": null,
   "id": "68e839d2",
   "metadata": {},
   "outputs": [],
   "source": [
    "print(\"my name is sujal\")   ##this is comment that cannot be executed in code"
   ]
  }
 ],
 "metadata": {
  "kernelspec": {
   "display_name": "Python 3",
   "language": "python",
   "name": "python3"
  },
  "language_info": {
   "name": "python",
   "version": "3.12.0"
  }
 },
 "nbformat": 4,
 "nbformat_minor": 5
}
