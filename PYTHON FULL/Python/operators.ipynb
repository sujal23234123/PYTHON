{
 "cells": [
  {
   "cell_type": "code",
   "execution_count": null,
   "id": "cd066cd8",
   "metadata": {},
   "outputs": [
    {
     "name": "stdout",
     "output_type": "stream",
     "text": [
      "15\n",
      "-5\n",
      "50\n",
      "0.5\n",
      "5\n",
      "9765625\n",
      "0\n"
     ]
    }
   ],
   "source": [
    "#Arthemetic operator\n",
    "\n",
    "a=5\n",
    "b=10\n",
    "\n",
    "print(a+b)    #addition        \n",
    "print(a-b)    #substraction\n",
    "print(a*b)    #multiplication\n",
    "print(a/b)    #division\n",
    "print(a%b)    #modulus\n",
    "print(a**b)   #expoential\n",
    "print(a//b)   #floor division :give round of value of division\n"
   ]
  },
  {
   "cell_type": "code",
   "execution_count": null,
   "id": "720cdd1f",
   "metadata": {},
   "outputs": [],
   "source": [
    "#assignment operators\n",
    "\n",
    "=\t  x=3\n",
    "+=\t  x+4 \n",
    "-=    x-4\t\t\n",
    "*=\t  x*4\t\n",
    "/= \t  x/4\n",
    "%=\t  x%4\n",
    "//=\t  x//4\n",
    "**=\t  x**4\n",
    "&=\t  x&4\n",
    "|=\t  x|4\t\n",
    "^=\t  x^4\n",
    ">>=\t  x=x>>4\n",
    "<<=\t  x=<<4\n",
    ":=    x=3 print(x)"
   ]
  },
  {
   "cell_type": "code",
   "execution_count": 12,
   "id": "06f8e538",
   "metadata": {},
   "outputs": [
    {
     "name": "stdout",
     "output_type": "stream",
     "text": [
      "False\n",
      "True\n",
      "False\n",
      "True\n",
      "False\n",
      "True\n"
     ]
    }
   ],
   "source": [
    "#comparision operators\n",
    "\n",
    "x=4\n",
    "y=6\n",
    "\n",
    "print(x==y)\n",
    "print(x!=y)\n",
    "print(x>y)\n",
    "print(x<y)\n",
    "print(x>=y)\n",
    "print(x<=y)\n"
   ]
  },
  {
   "cell_type": "code",
   "execution_count": 17,
   "id": "0105bb9d",
   "metadata": {},
   "outputs": [
    {
     "name": "stdout",
     "output_type": "stream",
     "text": [
      "True\n",
      "True\n",
      "False\n"
     ]
    }
   ],
   "source": [
    "#logical operator\n",
    "\n",
    "x=40\n",
    "y=50\n",
    "\n",
    "print(x<50 and y>30)\n",
    "print(x<50 or y>30)\n",
    "print(not(x<50 and y>30))\n"
   ]
  },
  {
   "cell_type": "code",
   "execution_count": null,
   "id": "00f7cd90",
   "metadata": {},
   "outputs": [],
   "source": [
    "# Identity Operators\n",
    "\n",
    "is\n",
    "is not\n"
   ]
  },
  {
   "cell_type": "code",
   "execution_count": null,
   "id": "27b47fda",
   "metadata": {},
   "outputs": [],
   "source": [
    "#Membership Operators\n",
    "\n",
    "in \n",
    "not in"
   ]
  },
  {
   "cell_type": "code",
   "execution_count": null,
   "id": "1943d425",
   "metadata": {},
   "outputs": [],
   "source": [
    "#bitwise operator\n",
    "\n",
    "& \tAND\t                    Sets each bit to 1 if both bits are 1\tx & y\t\n",
    "|\tOR\t                    Sets each bit to 1 if one of two bits is 1\tx | y\t\n",
    "^\tXOR\t                    Sets each bit to 1 if only one of two bits is 1\tx ^ y\t\n",
    "~\tNOT\t                    Inverts all the bits\t\t\n",
    "<<\tZero fill left shift\tShift left by pushing zeros in from the right and let the leftmost bits fall off\t\n",
    ">>\tSigned right shift      Shift right by pushing copies of the leftmost bit in from the left, and let the rightmost bits fall off"
   ]
  },
  {
   "cell_type": "code",
   "execution_count": null,
   "id": "0187f384",
   "metadata": {},
   "outputs": [],
   "source": [
    "\n",
    "\n",
    "&\n"
   ]
  },
  {
   "cell_type": "code",
   "execution_count": null,
   "id": "dd58c43c",
   "metadata": {},
   "outputs": [],
   "source": []
  },
  {
   "cell_type": "code",
   "execution_count": null,
   "id": "7807adcb",
   "metadata": {},
   "outputs": [],
   "source": []
  }
 ],
 "metadata": {
  "kernelspec": {
   "display_name": "Python 3",
   "language": "python",
   "name": "python3"
  },
  "language_info": {
   "codemirror_mode": {
    "name": "ipython",
    "version": 3
   },
   "file_extension": ".py",
   "mimetype": "text/x-python",
   "name": "python",
   "nbconvert_exporter": "python",
   "pygments_lexer": "ipython3",
   "version": "3.12.0"
  }
 },
 "nbformat": 4,
 "nbformat_minor": 5
}
