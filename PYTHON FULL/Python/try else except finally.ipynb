{
 "cells": [
  {
   "cell_type": "code",
   "execution_count": 8,
   "id": "077360f4",
   "metadata": {},
   "outputs": [
    {
     "name": "stdout",
     "output_type": "stream",
     "text": [
      "the result is 0.75\n",
      "program finished\n"
     ]
    }
   ],
   "source": [
    "try:\n",
    "    num1=int(input(\"eter 1st number\"))\n",
    "    num2=int(input(\"enter 2nd number\"))\n",
    "    result=num1/num2\n",
    "except NameError:\n",
    "    print(\"enter a valid number\")\n",
    "except ZeroDivisionError:\n",
    "    print(\"cannot divide by zero\")\n",
    "else:\n",
    "    print(f\"the result is {result}\")\n",
    "finally:\n",
    "    print(\"program finished\")"
   ]
  },
  {
   "cell_type": "code",
   "execution_count": null,
   "id": "f2f18a94",
   "metadata": {},
   "outputs": [],
   "source": []
  },
  {
   "cell_type": "code",
   "execution_count": null,
   "id": "f9687205",
   "metadata": {},
   "outputs": [],
   "source": []
  },
  {
   "cell_type": "code",
   "execution_count": null,
   "id": "4704df4e",
   "metadata": {},
   "outputs": [],
   "source": []
  },
  {
   "cell_type": "code",
   "execution_count": null,
   "id": "1cb25206",
   "metadata": {},
   "outputs": [],
   "source": []
  }
 ],
 "metadata": {
  "kernelspec": {
   "display_name": "Python 3",
   "language": "python",
   "name": "python3"
  },
  "language_info": {
   "codemirror_mode": {
    "name": "ipython",
    "version": 3
   },
   "file_extension": ".py",
   "mimetype": "text/x-python",
   "name": "python",
   "nbconvert_exporter": "python",
   "pygments_lexer": "ipython3",
   "version": "3.12.0"
  }
 },
 "nbformat": 4,
 "nbformat_minor": 5
}
