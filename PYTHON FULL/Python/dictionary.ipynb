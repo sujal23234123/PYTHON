{
 "cells": [
  {
   "cell_type": "markdown",
   "id": "e2c20a22",
   "metadata": {},
   "source": [
    "Dictionary\n",
    "Dictionaries are used to store data values in key:value pairs.\n",
    "\n",
    "A dictionary is a collection which is ordered*, changeable and do not allow duplicates.\n",
    "\n",
    "Dictionary items are ordered, changeable, and do not allow duplicates.\n",
    "\n",
    "Dictionary items are presented in key:value pairs, and can be referred to by using the key name.\n",
    "\n",
    "denoted by={key : value}"
   ]
  },
  {
   "cell_type": "code",
   "execution_count": 1,
   "id": "e9f0a511",
   "metadata": {},
   "outputs": [
    {
     "name": "stdout",
     "output_type": "stream",
     "text": [
      "{'Name': 'sujal', 'surname': 'didwaniya', 'Age': 20}\n"
     ]
    }
   ],
   "source": [
    "dict1={\"Name\":\"sujal\",\"surname\":\"didwaniya\",\"Age\":20}\n",
    "print(dict1)"
   ]
  },
  {
   "cell_type": "code",
   "execution_count": 2,
   "id": "1083141c",
   "metadata": {},
   "outputs": [
    {
     "name": "stdout",
     "output_type": "stream",
     "text": [
      "{'name': 'sujal', 'rollno': 63}\n"
     ]
    }
   ],
   "source": [
    "#dict constructor\n",
    "\n",
    "dictionary=dict(name=\"sujal\",rollno=63)\n",
    "print(dictionary)"
   ]
  },
  {
   "cell_type": "code",
   "execution_count": 11,
   "id": "e85a1f80",
   "metadata": {},
   "outputs": [
    {
     "name": "stdout",
     "output_type": "stream",
     "text": [
      "sujal\n",
      "dict_keys(['Name', 'surname', 'Age'])\n",
      "dict_values(['sujal', 'didwaniya', 20])\n",
      "dict_items([('Name', 'sujal'), ('surname', 'didwaniya'), ('Age', 20)])\n"
     ]
    }
   ],
   "source": [
    "#accessing dectionary\n",
    "\n",
    "dict1={\"Name\":\"sujal\",\"surname\":\"didwaniya\",\"Age\":20}\n",
    "\n",
    "print(dict1.get(\"Name\"))\n",
    "print(dict1.keys())\n",
    "print(dict1.values())\n",
    "print(dict1.items())\n",
    "\n"
   ]
  },
  {
   "cell_type": "code",
   "execution_count": 17,
   "id": "60f4c544",
   "metadata": {},
   "outputs": [
    {
     "name": "stdout",
     "output_type": "stream",
     "text": [
      "{'Name': 'sujall', 'surname': 'didwaniya', 'Age': 20}\n",
      "{'Name': 'sujal', 'surname': 'didwaniya', 'Age': 21}\n"
     ]
    }
   ],
   "source": [
    "#change and update value in dictionary\n",
    "dict1={\"Name\":\"sujal\",\"surname\":\"didwaniya\",\"Age\":20}\n",
    "\n",
    "dict1[\"Name\"]=\"sujall\"\n",
    "print(dict1)\n",
    "\n",
    "dict1={\"Name\":\"sujal\",\"surname\":\"didwaniya\",\"Age\":20}\n",
    "dict1.update({\"Age\":21})\n",
    "print(dict1)\n"
   ]
  },
  {
   "cell_type": "code",
   "execution_count": 19,
   "id": "0a2e88c5",
   "metadata": {},
   "outputs": [
    {
     "name": "stdout",
     "output_type": "stream",
     "text": [
      "{'Name': 'sujal', 'surname': 'didwaniya', 'Age': 20, 'rollno': 63}\n",
      "{'Name': 'sujal', 'surname': 'didwaniya', 'Age': 20, 'city': 'ankleshwar'}\n"
     ]
    }
   ],
   "source": [
    "#adding in dictionary\n",
    "\n",
    "dict1={\"Name\":\"sujal\",\"surname\":\"didwaniya\",\"Age\":20}\n",
    "dict1.update({\"rollno\":63})\n",
    "print(dict1)\n",
    "\n",
    "dict1={\"Name\":\"sujal\",\"surname\":\"didwaniya\",\"Age\":20}\n",
    "dict1[\"city\"]=\"ankleshwar\"\n",
    "print(dict1)\n"
   ]
  },
  {
   "cell_type": "code",
   "execution_count": null,
   "id": "d9416843",
   "metadata": {},
   "outputs": [
    {
     "name": "stdout",
     "output_type": "stream",
     "text": [
      "{'surname': 'didwaniya', 'Age': 20}\n",
      "{'surname': 'didwaniya'}\n",
      "{'surname': 'didwaniya', 'Age': 20}\n"
     ]
    }
   ],
   "source": [
    "#delete from dictionary\n",
    "dict1={\"Name\":\"sujal\",\"surname\":\"didwaniya\",\"Age\":20}\n",
    "dict1.pop(\"Name\")\n",
    "print(dict1)\n",
    "\n",
    "dict1.popitem()\n",
    "print(dict1)\n",
    "\n",
    "dict1={\"Name\":\"sujal\",\"surname\":\"didwaniya\",\"Age\":20}\n",
    "del dict1[\"Name\"]\n",
    "print(dict1)\n",
    "\n"
   ]
  },
  {
   "cell_type": "code",
   "execution_count": 24,
   "id": "cb404cf7",
   "metadata": {},
   "outputs": [
    {
     "name": "stdout",
     "output_type": "stream",
     "text": [
      "Name\n",
      "surname\n",
      "Age\n"
     ]
    }
   ],
   "source": [
    "#loop in dictionary\n",
    "\n",
    "dict1={\"Name\":\"sujal\",\"surname\":\"didwaniya\",\"Age\":20}\n",
    "for x in dict1:\n",
    "    print(x)"
   ]
  },
  {
   "cell_type": "code",
   "execution_count": 26,
   "id": "a352cbf7",
   "metadata": {},
   "outputs": [
    {
     "name": "stdout",
     "output_type": "stream",
     "text": [
      "{'Name': 'sujal', 'surname': 'didwaniya', 'Age': 20}\n"
     ]
    }
   ],
   "source": [
    "#copying dictionary\n",
    "\n",
    "dict1={\"Name\":\"sujal\",\"surname\":\"didwaniya\",\"Age\":20}\n",
    "\n",
    "mydict=dict1.copy()\n",
    "print(mydict)"
   ]
  },
  {
   "cell_type": "code",
   "execution_count": 29,
   "id": "25a8a487",
   "metadata": {},
   "outputs": [
    {
     "name": "stdout",
     "output_type": "stream",
     "text": [
      "{'child1': {'Name': 'sujal', 'Age': 20}, 'child2': {'Name': 'devang', 'Age': 21}, 'child3': {'Name': 'rahul', 'Age': 23}}\n",
      "devang\n"
     ]
    }
   ],
   "source": [
    "#nested dictionary\n",
    "\n",
    "child1={\"Name\":\"sujal\",\"Age\":20}\n",
    "child2={\"Name\":\"devang\",\"Age\":21}\n",
    "child3={\"Name\":\"rahul\",\"Age\":23}\n",
    "father={\"child1\": child1,\"child2\":child2,\"child3\":child3}\n",
    "print(father)\n",
    "\n",
    "\n",
    "print(father[\"child2\"][\"Name\"])"
   ]
  },
  {
   "cell_type": "markdown",
   "id": "9245e91b",
   "metadata": {},
   "source": [
    "clear()\tRemoves all the elements from the dictionary\n",
    "\n",
    "copy()\tReturns a copy of the dictionary\n",
    "\n",
    "fromkeys()\tReturns a dictionary with the specified keys and value\n",
    "\n",
    "get()\tReturns the value of the specified key\n",
    "\n",
    "items()\tReturns a list containing a tuple for each key value pair\n",
    "\n",
    "keys()\tReturns a list containing the dictionary's keys\n",
    "\n",
    "pop()\tRemoves the element with the specified key\n",
    "\n",
    "popitem()\tRemoves the last inserted key-value pair\n",
    "\n",
    "setdefault()\tReturns the value of the specified key. If the key does not exist: insert the key, with the specified value\n",
    "\n",
    "update()\tUpdates the dictionary with the specified key-value pairs\n",
    "\n",
    "values()\tReturns a list of all the values in the dictionary"
   ]
  },
  {
   "cell_type": "code",
   "execution_count": null,
   "id": "6043208d",
   "metadata": {},
   "outputs": [],
   "source": []
  },
  {
   "cell_type": "code",
   "execution_count": null,
   "id": "4621b89a",
   "metadata": {},
   "outputs": [],
   "source": []
  },
  {
   "cell_type": "code",
   "execution_count": null,
   "id": "8b83e6eb",
   "metadata": {},
   "outputs": [],
   "source": []
  },
  {
   "cell_type": "code",
   "execution_count": null,
   "id": "038d02f3",
   "metadata": {},
   "outputs": [],
   "source": []
  },
  {
   "cell_type": "code",
   "execution_count": null,
   "id": "da20a993",
   "metadata": {},
   "outputs": [],
   "source": []
  },
  {
   "cell_type": "code",
   "execution_count": null,
   "id": "cc628b05",
   "metadata": {},
   "outputs": [],
   "source": []
  },
  {
   "cell_type": "code",
   "execution_count": null,
   "id": "e4684bb3",
   "metadata": {},
   "outputs": [],
   "source": []
  },
  {
   "cell_type": "code",
   "execution_count": null,
   "id": "31a87af1",
   "metadata": {},
   "outputs": [],
   "source": []
  },
  {
   "cell_type": "code",
   "execution_count": null,
   "id": "1f83c810",
   "metadata": {},
   "outputs": [],
   "source": []
  },
  {
   "cell_type": "code",
   "execution_count": null,
   "id": "c182769c",
   "metadata": {},
   "outputs": [],
   "source": []
  },
  {
   "cell_type": "code",
   "execution_count": null,
   "id": "a2421092",
   "metadata": {},
   "outputs": [],
   "source": []
  },
  {
   "cell_type": "code",
   "execution_count": null,
   "id": "5dd9859b",
   "metadata": {},
   "outputs": [],
   "source": []
  }
 ],
 "metadata": {
  "kernelspec": {
   "display_name": "Python 3",
   "language": "python",
   "name": "python3"
  },
  "language_info": {
   "codemirror_mode": {
    "name": "ipython",
    "version": 3
   },
   "file_extension": ".py",
   "mimetype": "text/x-python",
   "name": "python",
   "nbconvert_exporter": "python",
   "pygments_lexer": "ipython3",
   "version": "3.12.0"
  }
 },
 "nbformat": 4,
 "nbformat_minor": 5
}
