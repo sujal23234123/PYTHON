{
 "cells": [
  {
   "cell_type": "markdown",
   "id": "a725625f",
   "metadata": {},
   "source": [
    "=A variable can have a short name (like x and y) or a more descriptive name (age, carname, total_volume).\n",
    "\n",
    "*Rules for Python variables:\n",
    "\n",
    "-A variable name must start with a letter or the underscore character\n",
    "\n",
    "-A variable name cannot start with a number\n",
    "\n",
    "-A variable name can only contain alpha-numeric characters and underscores (A-z, 0-9, and _ )\n",
    "\n",
    "-Variable names are case-sensitive (age, Age and AGE are three different variables)\n",
    "\n",
    "-A variable name cannot be any of the Python keywords."
   ]
  },
  {
   "cell_type": "code",
   "execution_count": 1,
   "id": "e5628d99",
   "metadata": {},
   "outputs": [
    {
     "name": "stdout",
     "output_type": "stream",
     "text": [
      "10\n"
     ]
    }
   ],
   "source": [
    "x=10\n",
    "print(x)"
   ]
  },
  {
   "cell_type": "code",
   "execution_count": 2,
   "id": "e996cf98",
   "metadata": {},
   "outputs": [
    {
     "name": "stdout",
     "output_type": "stream",
     "text": [
      "sujal\n"
     ]
    }
   ],
   "source": [
    "x=\"sujal\"\n",
    "print(x)"
   ]
  },
  {
   "cell_type": "code",
   "execution_count": 4,
   "id": "50559661",
   "metadata": {},
   "outputs": [
    {
     "name": "stdout",
     "output_type": "stream",
     "text": [
      "10\n",
      "<class 'str'>\n"
     ]
    }
   ],
   "source": [
    "x=str(10)\n",
    "print(x)\n",
    "print(type(x))"
   ]
  },
  {
   "cell_type": "code",
   "execution_count": 9,
   "id": "928ded88",
   "metadata": {},
   "outputs": [
    {
     "name": "stdout",
     "output_type": "stream",
     "text": [
      "sujal\n",
      "sujall\n",
      "sujalll\n"
     ]
    }
   ],
   "source": [
    "#types of naming variable\n",
    "\n",
    "#1st-Camel Case   =except the first worf each word start with capital letter\n",
    "myNameIsSujal=\"sujal\"\n",
    "print(myNameIsSujal)\n",
    "\n",
    "#2nd-Pascal Case   =Each word start with a capital letter\n",
    "\n",
    "MyNameIsSujal=\"sujall\"\n",
    "print(MyNameIsSujal)\n",
    "\n",
    "#3rd-snake case    =Each word is seprated by an underscore\n",
    "\n",
    "My_Name_Is_Sujal=\"sujalll\"\n",
    "print(My_Name_Is_Sujal)\n",
    "\n",
    "\n"
   ]
  },
  {
   "cell_type": "code",
   "execution_count": 11,
   "id": "3caef90e",
   "metadata": {},
   "outputs": [
    {
     "name": "stdout",
     "output_type": "stream",
     "text": [
      "mango\n",
      "banana\n",
      "apple\n",
      "mango\n",
      "cherry\n",
      "mango\n"
     ]
    }
   ],
   "source": [
    "#Assigning multiple value to multiple variable\n",
    "\n",
    "x,y,z=\"mango\",\"banana\",\"apple\"\n",
    "print(x)\n",
    "print(y)\n",
    "print(z)\n",
    "\n",
    "fruits=[\"mango\",\"cherry\",\"apple\"]\n",
    "x,y,z=fruits\n",
    "print(x)\n",
    "print(y)\n",
    "print(x)"
   ]
  },
  {
   "cell_type": "code",
   "execution_count": 14,
   "id": "5ad7c027",
   "metadata": {},
   "outputs": [
    {
     "name": "stdout",
     "output_type": "stream",
     "text": [
      "python is awsome\n",
      "pythonisawsome\n"
     ]
    }
   ],
   "source": [
    "#output variable\n",
    "\n",
    "x=\"python\"\n",
    "y=\"is\"\n",
    "z=\"awsome\"\n",
    "print(x,y,z)\n",
    "print(x +y +z)"
   ]
  },
  {
   "cell_type": "code",
   "execution_count": 16,
   "id": "b85a8604",
   "metadata": {},
   "outputs": [
    {
     "name": "stdout",
     "output_type": "stream",
     "text": [
      "my name is sujal\n"
     ]
    }
   ],
   "source": [
    "#global variable  Variables that are created outside of a function (as in all of the examples in the previous pages) are known as global variables.\n",
    "\n",
    "#Global variables can be used by everyone, both inside of functions and outside.\n",
    "\n",
    "x=\"my name is sujal\"\n",
    "\n",
    "def my_name():\n",
    "    print(x)\n",
    "\n",
    "my_name()"
   ]
  },
  {
   "cell_type": "code",
   "execution_count": 18,
   "id": "630d9541",
   "metadata": {},
   "outputs": [
    {
     "name": "stdout",
     "output_type": "stream",
     "text": [
      "python issuper\n",
      "python isawesome\n"
     ]
    }
   ],
   "source": [
    "x=\"awesome\"\n",
    "\n",
    "def myfunc():\n",
    "    x=\"super\"\n",
    "    print(\"python is\"+ x)\n",
    "\n",
    "myfunc()\n",
    "\n",
    "print(\"python is\" + x)"
   ]
  },
  {
   "cell_type": "code",
   "execution_count": null,
   "id": "11818de3",
   "metadata": {},
   "outputs": [
    {
     "name": "stdout",
     "output_type": "stream",
     "text": [
      "python isawesome\n",
      "python isawesome\n",
      "my name\n"
     ]
    }
   ],
   "source": [
    "#global keyword\n",
    "\n",
    "def myfunc1():\n",
    "    global x\n",
    "    x=\"awesome\"\n",
    "    print(\"python is\"+ x)\n",
    "\n",
    "myfunc1()\n",
    "\n",
    "print(\"python is\"+x)\n",
    "\n",
    "\n",
    "\n",
    "\n",
    "\n",
    "\n",
    "x=\"sujal\"\n",
    "\n",
    "def myfunc2():\n",
    "    global x             \n",
    "    x=\"my name\"         #global variable x is changes to my name\n",
    "\n",
    "myfunc2()\n",
    "\n",
    "print(x)\n"
   ]
  },
  {
   "cell_type": "code",
   "execution_count": null,
   "id": "cfea02ce",
   "metadata": {},
   "outputs": [],
   "source": []
  }
 ],
 "metadata": {
  "kernelspec": {
   "display_name": "Python 3",
   "language": "python",
   "name": "python3"
  },
  "language_info": {
   "codemirror_mode": {
    "name": "ipython",
    "version": 3
   },
   "file_extension": ".py",
   "mimetype": "text/x-python",
   "name": "python",
   "nbconvert_exporter": "python",
   "pygments_lexer": "ipython3",
   "version": "3.12.0"
  }
 },
 "nbformat": 4,
 "nbformat_minor": 5
}
