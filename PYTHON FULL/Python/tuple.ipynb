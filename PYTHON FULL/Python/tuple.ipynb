{
 "cells": [
  {
   "cell_type": "markdown",
   "id": "82eacda0",
   "metadata": {},
   "source": [
    "Tuples are used to store multiple items in a single variable.\n",
    "\n",
    "Tuple is one of 4 built-in data types in Python used to store collections of data, the other 3 are List, Set, and Dictionary, all with different qualities and usage.\n",
    "\n",
    "A tuple is a collection which is ordered and unchangeable.\n",
    "\n",
    "Tuples are written with round brackets.\n",
    "\n",
    "Tuple items are ordered, unchangeable, and allow duplicate values.\n",
    "\n",
    "Tuple items are indexed, the first item has index [0], the second item has index [1] etc.\n",
    "\n",
    "denoted by=()"
   ]
  },
  {
   "cell_type": "code",
   "execution_count": 1,
   "id": "294bb80e",
   "metadata": {},
   "outputs": [
    {
     "name": "stdout",
     "output_type": "stream",
     "text": [
      "(1, 2, 3, 'sujal', 4, 5)\n"
     ]
    }
   ],
   "source": [
    "tuple1=(1,2,3,\"sujal\",4,5,)\n",
    "print(tuple1)"
   ]
  },
  {
   "cell_type": "code",
   "execution_count": 2,
   "id": "785dcf67",
   "metadata": {},
   "outputs": [
    {
     "name": "stdout",
     "output_type": "stream",
     "text": [
      "(1, 2, 3, 4)\n",
      "<class 'tuple'>\n"
     ]
    }
   ],
   "source": [
    "#tuple constructor\n",
    "\n",
    "tuple2=tuple((1,2,3,4))\n",
    "print(tuple2)\n",
    "print(type(tuple2))"
   ]
  },
  {
   "cell_type": "code",
   "execution_count": 16,
   "id": "031efebd",
   "metadata": {},
   "outputs": [
    {
     "name": "stdout",
     "output_type": "stream",
     "text": [
      "5\n",
      "(1, 2, 3, 4, 5, 6, 7, 8, 9, 10)\n",
      "(0, 1, 2, 3, 4, 5, 6)\n",
      "(4, 5)\n",
      "(8, 9, 10)\n",
      "(0, 1, 2, 3, 4, 5, 6, 7)\n",
      "(3, 4, 5, 6)\n",
      "yes it present \n"
     ]
    }
   ],
   "source": [
    "#accessing tuple items\n",
    "\n",
    "tuple3=(0,1,2,3,4,5,6,7,8,9,10)\n",
    "print(tuple3[5])\n",
    "print(tuple3[1:])\n",
    "print(tuple3[:7])\n",
    "print(tuple3[4:6])\n",
    "print(tuple3[-3:])\n",
    "print(tuple3[:-3])\n",
    "print(tuple3[-8:-4])\n",
    "\n",
    "if 2 in tuple3:\n",
    "    print(\"yes it present \")"
   ]
  },
  {
   "cell_type": "code",
   "execution_count": null,
   "id": "36470cce",
   "metadata": {},
   "outputs": [
    {
     "name": "stdout",
     "output_type": "stream",
     "text": [
      "(0, 1, 2, 3, 4, 5, 6, 7, 8, 9, 10, 11)\n",
      "(0, 2, 3, 4, 5, 6, 7, 8, 9, 10)\n"
     ]
    }
   ],
   "source": [
    "#convert tuple into list then update it\n",
    "\n",
    "x=tuple3=(0,1,2,3,4,5,6,7,8,9,10)\n",
    "y=list(tuple3)\n",
    "y.append(11)\n",
    "x=tuple(y)\n",
    "\n",
    "print(x)\n",
    "\n",
    "\n",
    "\n",
    "x=tuple3=(0,1,2,3,4,5,6,7,8,9,10)\n",
    "y=list(tuple3)                                #in tuple we cannot remove or add items so we converted first into list the back to tuple\n",
    "y.remove(1)\n",
    "x=tuple(y)\n",
    "                       \n",
    "print(x)\n",
    "\n"
   ]
  },
  {
   "cell_type": "code",
   "execution_count": null,
   "id": "715926cf",
   "metadata": {},
   "outputs": [
    {
     "name": "stdout",
     "output_type": "stream",
     "text": [
      "mango\n",
      "banana\n",
      "cherry\n"
     ]
    }
   ],
   "source": [
    "#unpacking tuple\n",
    "\n",
    "fruits=(\"mango\",\"banana\",\"cherry\")\n",
    "\n",
    "(x,y,z)=fruits\n",
    "\n",
    "print(x)\n",
    "print(y)\n",
    "print(z)\n",
    "\n",
    "\n",
    "fruits=(\"mango\",\"banana\",\"cherry\",\"guava\",\"orange\")\n",
    "\n",
    "(x,y,*z)=fruits                #if the item is more than the variable then we use * to print all those elements in one variable\n",
    "\n",
    "print(x)\n",
    "print(y)\n",
    "print(z)"
   ]
  },
  {
   "cell_type": "code",
   "execution_count": 28,
   "id": "02e56080",
   "metadata": {},
   "outputs": [
    {
     "name": "stdout",
     "output_type": "stream",
     "text": [
      "mango\n",
      "banana\n",
      "cherry\n",
      "guava\n",
      "orange\n"
     ]
    }
   ],
   "source": [
    "#loops in tuple\n",
    "\n",
    "fruits=(\"mango\",\"banana\",\"cherry\",\"guava\",\"orange\")\n",
    "for i in fruits:\n",
    "    print(i)"
   ]
  },
  {
   "cell_type": "code",
   "execution_count": null,
   "id": "2672d2b4",
   "metadata": {},
   "outputs": [
    {
     "name": "stdout",
     "output_type": "stream",
     "text": [
      "('mango', 'banana', 'cherry', 'guava', 'orange', 0, 1, 2, 3, 4, 5, 6, 7, 8, 9, 10)\n"
     ]
    }
   ],
   "source": [
    "#join two tuple we cannot use append or extend function in tuple\n",
    "\n",
    "fruits=(\"mango\",\"banana\",\"cherry\",\"guava\",\"orange\")\n",
    "tuple3=(0,1,2,3,4,5,6,7,8,9,10,10)\n",
    "\n",
    "print(fruits+tuple3)"
   ]
  },
  {
   "cell_type": "markdown",
   "id": "89d36508",
   "metadata": {},
   "source": [
    "count()\tReturns the number of times a specified value occurs in a tuple\n",
    "\n",
    "index()\tSearches the tuple for a specified value and returns the position of where it was found\n"
   ]
  },
  {
   "cell_type": "code",
   "execution_count": 32,
   "id": "a24a7081",
   "metadata": {},
   "outputs": [
    {
     "data": {
      "text/plain": [
       "4"
      ]
     },
     "execution_count": 32,
     "metadata": {},
     "output_type": "execute_result"
    }
   ],
   "source": [
    "#count\n",
    "\n",
    "tuple3=(0,1,2,3,4,5,6,7,8,9,10,10)\n",
    "tuple3.count(10)\n",
    "\n",
    "#index\n",
    "tuple3=(0,1,2,3,4,5,6,7,8,9,10,10)\n",
    "tuple3.index(4)"
   ]
  },
  {
   "cell_type": "code",
   "execution_count": null,
   "id": "a9fa3774",
   "metadata": {},
   "outputs": [],
   "source": []
  },
  {
   "cell_type": "markdown",
   "id": "ca52ba51",
   "metadata": {},
   "source": []
  }
 ],
 "metadata": {
  "kernelspec": {
   "display_name": "Python 3",
   "language": "python",
   "name": "python3"
  },
  "language_info": {
   "codemirror_mode": {
    "name": "ipython",
    "version": 3
   },
   "file_extension": ".py",
   "mimetype": "text/x-python",
   "name": "python",
   "nbconvert_exporter": "python",
   "pygments_lexer": "ipython3",
   "version": "3.12.0"
  }
 },
 "nbformat": 4,
 "nbformat_minor": 5
}
