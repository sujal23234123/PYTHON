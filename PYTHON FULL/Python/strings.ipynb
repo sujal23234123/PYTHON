{
 "cells": [
  {
   "cell_type": "code",
   "execution_count": 1,
   "id": "7bbd96fb",
   "metadata": {},
   "outputs": [
    {
     "name": "stdout",
     "output_type": "stream",
     "text": [
      "sujal\n"
     ]
    }
   ],
   "source": [
    "#string\n",
    "\n",
    "a=\"sujal\"\n",
    "print(a)"
   ]
  },
  {
   "cell_type": "code",
   "execution_count": null,
   "id": "39567f85",
   "metadata": {},
   "outputs": [
    {
     "name": "stdout",
     "output_type": "stream",
     "text": [
      "\n",
      "   my name is sujal\n",
      "   i am 20 years old\n",
      "\n",
      "\n",
      "\n"
     ]
    }
   ],
   "source": [
    "#multiline string\n",
    "\n",
    "a=\"\"\"\n",
    "   my name is sujal\n",
    "   i am 20 years old\n",
    "\"\"\"\n",
    "print(a)"
   ]
  },
  {
   "cell_type": "code",
   "execution_count": 21,
   "id": "3bf7ec7f",
   "metadata": {},
   "outputs": [
    {
     "name": "stdout",
     "output_type": "stream",
     "text": [
      "Hello world\n",
      "o world\n",
      "Hello wo\n",
      "w\n",
      " wo\n"
     ]
    }
   ],
   "source": [
    "#slicing in strings\n",
    "\n",
    "a=\"Hello world\"\n",
    "print(a[0:])\n",
    "\n",
    "a=\"Hello world\"\n",
    "print(a[4:])\n",
    "\n",
    "a=\"Hello world\"\n",
    "print(a[:8])\n",
    "\n",
    "a=\"Hello world\"\n",
    "print(a[-5:-4])\n",
    "\n",
    "a=\"Hello world\"\n",
    "print(a[5:8])"
   ]
  },
  {
   "cell_type": "code",
   "execution_count": 27,
   "id": "322dcca7",
   "metadata": {},
   "outputs": [
    {
     "name": "stdout",
     "output_type": "stream",
     "text": [
      "HYY SUJAL\n",
      "hyy sujal\n",
      "['hyy', 'sujal']\n",
      "hyy sujal\n",
      "iyy sujal\n"
     ]
    }
   ],
   "source": [
    "#modifying string\n",
    "\n",
    "a=\"hyy sujal\"\n",
    "print(a.upper())\n",
    "\n",
    "a=\"hyy sujal\"\n",
    "print(a.lower())\n",
    "\n",
    "a=\"hyy sujal\"\n",
    "print(a.split())\n",
    "\n",
    "a=\"hyy sujal\"\n",
    "print(a.strip())\n",
    "\n",
    "a=\"hyy sujal\"\n",
    "print(a.replace(\"h\",\"i\"))\n",
    "\n",
    "\n",
    "\n",
    "\n",
    "\n"
   ]
  },
  {
   "cell_type": "code",
   "execution_count": null,
   "id": "d269f956",
   "metadata": {},
   "outputs": [],
   "source": []
  },
  {
   "cell_type": "code",
   "execution_count": null,
   "id": "71805a3c",
   "metadata": {},
   "outputs": [],
   "source": []
  }
 ],
 "metadata": {
  "kernelspec": {
   "display_name": "Python 3",
   "language": "python",
   "name": "python3"
  },
  "language_info": {
   "codemirror_mode": {
    "name": "ipython",
    "version": 3
   },
   "file_extension": ".py",
   "mimetype": "text/x-python",
   "name": "python",
   "nbconvert_exporter": "python",
   "pygments_lexer": "ipython3",
   "version": "3.12.0"
  }
 },
 "nbformat": 4,
 "nbformat_minor": 5
}
