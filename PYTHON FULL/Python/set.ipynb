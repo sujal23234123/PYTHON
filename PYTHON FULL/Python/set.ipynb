{
 "cells": [
  {
   "cell_type": "markdown",
   "id": "56da418c",
   "metadata": {},
   "source": [
    "Sets are used to store multiple items in a single variable.\n",
    "\n",
    "Set is one of 4 built-in data types in Python used to store collections of data, the other 3 are List, Tuple, and Dictionary, all with different qualities and usage.\n",
    "\n",
    "A set is a collection which is unordered, unchangeable*, and unindexed.\n",
    "\n",
    "Set items are unordered, unchangeable, and do not allow duplicate valu\n",
    "\n",
    "denoted by={}"
   ]
  },
  {
   "cell_type": "code",
   "execution_count": 1,
   "id": "991370f4",
   "metadata": {},
   "outputs": [
    {
     "name": "stdout",
     "output_type": "stream",
     "text": [
      "{1, 2, 3, 4, 'sujal'}\n"
     ]
    }
   ],
   "source": [
    "set1={1,2,3,4,4,\"sujal\"}\n",
    "print(set1)"
   ]
  },
  {
   "cell_type": "code",
   "execution_count": 2,
   "id": "98d0885c",
   "metadata": {},
   "outputs": [
    {
     "name": "stdout",
     "output_type": "stream",
     "text": [
      "{'apple', 'banana', 'cherry'}\n"
     ]
    }
   ],
   "source": [
    "#set constructor\n",
    "\n",
    "thisset = set((\"apple\", \"banana\", \"cherry\")) # note the double round-brackets\n",
    "print(thisset)"
   ]
  },
  {
   "cell_type": "code",
   "execution_count": 6,
   "id": "4327e32f",
   "metadata": {},
   "outputs": [
    {
     "name": "stdout",
     "output_type": "stream",
     "text": [
      "1\n",
      "2\n",
      "3\n",
      "4\n",
      "sujal\n",
      "present\n",
      "false\n"
     ]
    }
   ],
   "source": [
    "#accessing in sets\n",
    "set1={1,2,3,4,4,\"sujal\"}\n",
    "for i in set1:\n",
    "    print(i)\n",
    "\n",
    "set1={1,2,3,4,4,\"sujal\"}\n",
    "if \"sujal\" in set1:\n",
    "    print(\"present\")\n",
    "\n",
    "set1={1,2,3,4,4,\"sujal\"}\n",
    "if \"sujal\" not in set1:\n",
    "    print(\"true\")\n",
    "else:\n",
    "    print(\"false\")\n"
   ]
  },
  {
   "cell_type": "code",
   "execution_count": 2,
   "id": "854933ff",
   "metadata": {},
   "outputs": [
    {
     "name": "stdout",
     "output_type": "stream",
     "text": [
      "{1, 2, 3, 4, 'sujal', 'didwaniya'}\n",
      "{1, 2, 3, 4, 'male', 'sujal', 'didwaniya'}\n"
     ]
    }
   ],
   "source": [
    "#add in set and update  set\n",
    "\n",
    "#add()\n",
    "set1={1,2,3,4,4,\"sujal\"}\n",
    "set1.add(\"didwaniya\")\n",
    "print(set1)\n",
    "\n",
    "#update()\n",
    "set1={1,2,3,4,4,\"sujal\"}\n",
    "set2={\"didwaniya\",\"male\"}\n",
    "set1.update(set2)\n",
    "print(set1)\n",
    "\n",
    "\n"
   ]
  },
  {
   "cell_type": "code",
   "execution_count": 6,
   "id": "61fe562b",
   "metadata": {},
   "outputs": [
    {
     "name": "stdout",
     "output_type": "stream",
     "text": [
      "{1, 3, 4, 'sujal'}\n",
      "{1, 2, 4, 'sujal'}\n",
      "{2, 3, 4, 'sujal'}\n"
     ]
    }
   ],
   "source": [
    "#removing from sets\n",
    "\n",
    "set1={1,2,3,4,4,\"sujal\"}\n",
    "set1.remove(2)\n",
    "print(set1)\n",
    "\n",
    "#discard\n",
    "\n",
    "set1={1,2,3,4,4,\"sujal\"}\n",
    "set1.discard(3)\n",
    "print(set1)\n",
    "\n",
    "#pop\n",
    "set1={1,2,3,4,4,\"sujal\"}\n",
    "set1.pop()\n",
    "print(set1)\n"
   ]
  },
  {
   "cell_type": "code",
   "execution_count": null,
   "id": "900eabf3",
   "metadata": {},
   "outputs": [
    {
     "name": "stdout",
     "output_type": "stream",
     "text": [
      "{1, 2, 3, 4, 6, 7, 8, 'sujal'}\n",
      "{1, 2, 3, 4, 6, 7, 8, 'sujal'}\n",
      "{1, 2, 3, 4, 'student', 6, 7, 8, '20 years old', 'male', 'sujal'}\n",
      "{'sujal'}\n",
      "{'sujal'}\n",
      "{2, 3, 4, 5}\n",
      "{2, 3, 4, 5}\n",
      "{2, 3, 4, 5, 6, 7, 8, 9}\n",
      "{2, 3, 4, 5, 6, 7, 8, 9}\n"
     ]
    }
   ],
   "source": [
    "#joining sets\n",
    "\n",
    "#1st-union(|)\n",
    "set1={1,2,3,4,4,\"sujal\"}\n",
    "set2={6,7,8}\n",
    "\n",
    "x=set1.union(set2)\n",
    "print(x)\n",
    "\n",
    "#or using(|) means union\n",
    "set1={1,2,3,4,4,\"sujal\"}\n",
    "set2={6,7,8}\n",
    "\n",
    "x=set1|set2\n",
    "print(x)\n",
    "\n",
    "#joining multiple sets\n",
    "set1={1,2,3,4,4,\"sujal\"}\n",
    "set2={6,7,8}\n",
    "set3={\"male\",\"20 years old\"}\n",
    "set4={\"student\"}\n",
    "\n",
    "x=set1|set2|set3|set4\n",
    "print(x)\n",
    "\n",
    "\n",
    "\n",
    "\n",
    "#intersection(&)\n",
    "#give that item that present in bot the sets\n",
    "\n",
    "set1={1,2,3,4,4,\"sujal\"}\n",
    "set2={6,7,8,\"sujal\"}\n",
    "\n",
    "x=set1.intersection(set2)\n",
    "print(x)\n",
    "\n",
    "#or using(&)\n",
    "set1={1,2,3,4,4,\"sujal\"}\n",
    "set2={6,7,8,\"sujal\"}\n",
    "\n",
    "x=set1&set2\n",
    "print(x)\n",
    "\n",
    "#intersection_update=it will change the set to the output set \n",
    "\n",
    "\n",
    "\n",
    "\n",
    "#Differnce(-)=The difference() method will return a new set that will contain only the items from the first set that are not present in the other set.\n",
    "\n",
    "set1={1,2,3,4,5}\n",
    "set2={1,6,7,8,9}\n",
    "\n",
    "x=set1.difference(set2)\n",
    "print(x)\n",
    "\n",
    "#or using (-)\n",
    "set1={1,2,3,4,5}\n",
    "set2={1,6,7,8,9}\n",
    "\n",
    "x=set1-set2\n",
    "print(x)\n",
    "\n",
    "\n",
    "#Symmetric Differences(^)=give those value from both sets where same value is not present\n",
    "\n",
    "set1={1,2,3,4,5}\n",
    "set2={1,6,7,8,9}\n",
    "\n",
    "x=set1.symmetric_difference(set2)\n",
    "print(x)\n",
    "\n",
    "\n",
    "set1={1,2,3,4,5}\n",
    "set2={1,6,7,8,9}\n",
    "\n",
    "x=set1^set2\n",
    "print(x)\n",
    "\n",
    "\n",
    "\n",
    "\n"
   ]
  },
  {
   "cell_type": "markdown",
   "id": "c50e3022",
   "metadata": {},
   "source": [
    "add()\t \tAdds an element to the set\n",
    "\n",
    "clear()\t Removes all the elements from the set\n",
    "\n",
    "copy()\t \tReturns a copy of the set\n",
    "\n",
    "difference()\t-\tReturns a set containing the difference between two or more sets\n",
    "\n",
    "difference_update()\t-=\tRemoves the items in this set that are also included in another, specified set\n",
    "\n",
    "discard()\t \tRemove the specified item\n",
    "\n",
    "intersection()\t&\tReturns a set, that is the intersection of two other sets\n",
    "\n",
    "intersection_update()\t&=\tRemoves the items in this set that are not present in other, specified set(s)\n",
    "\n",
    "isdisjoint()\t \tReturns whether two sets have a intersection or not\n",
    "\n",
    "issubset()\t<=\tReturns whether another set contains this set or not\n",
    "\n",
    " \t<\tReturns whether all items in this set is present in other, specified set(s)\n",
    "\n",
    "issuperset()\t>=\tReturns whether this set contains another set or not\n",
    " \t>\tReturns whether all items in other, specified set(s) is present in this set\n",
    "\n",
    "pop()\t \tRemoves an element from the set\n",
    "\n",
    "remove()\t \tRemoves the specified element\n",
    "\n",
    "symmetric_difference()\t^\tReturns a set with the symmetric differences of two sets\n",
    "\n",
    "symmetric_difference_update()\t^=\tInserts the symmetric differences from this set and another\n",
    "\n",
    "union()\t|\tReturn a set containing the union of sets\n",
    "\n",
    "update()\t|=\tUpdate the set with the union of this set and others"
   ]
  },
  {
   "cell_type": "code",
   "execution_count": null,
   "id": "c869ca51",
   "metadata": {},
   "outputs": [],
   "source": []
  },
  {
   "cell_type": "code",
   "execution_count": null,
   "id": "874995a7",
   "metadata": {},
   "outputs": [],
   "source": []
  },
  {
   "cell_type": "code",
   "execution_count": null,
   "id": "b804ae7f",
   "metadata": {},
   "outputs": [],
   "source": []
  }
 ],
 "metadata": {
  "kernelspec": {
   "display_name": "Python 3",
   "language": "python",
   "name": "python3"
  },
  "language_info": {
   "codemirror_mode": {
    "name": "ipython",
    "version": 3
   },
   "file_extension": ".py",
   "mimetype": "text/x-python",
   "name": "python",
   "nbconvert_exporter": "python",
   "pygments_lexer": "ipython3",
   "version": "3.12.0"
  }
 },
 "nbformat": 4,
 "nbformat_minor": 5
}
