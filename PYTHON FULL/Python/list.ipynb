{
 "cells": [
  {
   "cell_type": "markdown",
   "id": "25ad4f7a",
   "metadata": {},
   "source": [
    "List items are ordered, changeable, and allow duplicate values.\n",
    "\n",
    "List items are indexed, the first item has index [0], the second item has index [1] etc.\n",
    "\n",
    "Ordered\n",
    "When we say that lists are ordered, it means that the items have a defined order, and that order will not change.\n",
    "\n",
    "If you add new items to a list, the new items will be placed at the end of the list.\n",
    "\n",
    "Changeable\n",
    "The list is changeable, meaning that we can change, add, and remove items in a list after it has been created.\n",
    "\n",
    "denoted by=[]\n"
   ]
  },
  {
   "cell_type": "code",
   "execution_count": 2,
   "id": "c7f8cbfa",
   "metadata": {},
   "outputs": [
    {
     "name": "stdout",
     "output_type": "stream",
     "text": [
      "['apple', 'banana', 'cherry']\n",
      "3\n"
     ]
    }
   ],
   "source": [
    "mylist=[\"apple\",\"banana\",\"cherry\"]\n",
    "print(mylist)\n",
    "\n",
    "mylist=[\"apple\",\"banana\",\"cherry\"]\n",
    "print(len(mylist))"
   ]
  },
  {
   "cell_type": "code",
   "execution_count": 3,
   "id": "df048d76",
   "metadata": {},
   "outputs": [
    {
     "name": "stdout",
     "output_type": "stream",
     "text": [
      "['abc', 34, True, 40, 'male']\n"
     ]
    }
   ],
   "source": [
    "list1 = [\"abc\", 34, True, 40, \"male\"]\n",
    "print(list1)"
   ]
  },
  {
   "cell_type": "code",
   "execution_count": 4,
   "id": "9df23b4a",
   "metadata": {},
   "outputs": [
    {
     "name": "stdout",
     "output_type": "stream",
     "text": [
      "['apple', 'banana', 'cherry']\n"
     ]
    }
   ],
   "source": [
    "#The list() Constructor\n",
    "\n",
    "list2=list((\"apple\",\"banana\",\"cherry\"))\n",
    "print(list2)"
   ]
  },
  {
   "cell_type": "code",
   "execution_count": 11,
   "id": "ea9011b3",
   "metadata": {},
   "outputs": [
    {
     "name": "stdout",
     "output_type": "stream",
     "text": [
      "mango\n",
      "['apple', 'banana', 'cherry', 'mango', 'guava', 'pineapple', 'grapes']\n",
      "['apple', 'banana', 'cherry', 'mango', 'guava', 'pineapple']\n",
      "['cherry', 'mango', 'guava']\n",
      "['apple', 'banana', 'cherry', 'mango', 'guava', 'pineapple']\n",
      "['banana', 'cherry', 'mango', 'guava', 'pineapple', 'grapes']\n",
      "['cherry', 'mango', 'guava']\n"
     ]
    }
   ],
   "source": [
    "#accessing list items\n",
    "\n",
    "list3=[\"apple\",\"banana\",\"cherry\",\"mango\",\"guava\",\"pineapple\",\"grapes\"]\n",
    "     #  1         2        3       4        5         6         7\n",
    "     #  -7       -6       -5      -4       -3        -2        -1\n",
    "print(list3[3])\n",
    "print(list3[0:])        #from 0 to last\n",
    "print(list3[:6])        #from 0 to 6\n",
    "print(list3[2:5])       #from 2 to 5\n",
    "print(list3[:-1])       #from -7 to -1 but not include -1\n",
    "print(list3[-6:])       #from -6 to -1\n",
    "print(list3[-5:-2])     #from -5 to -2 but -2 is not include"
   ]
  },
  {
   "cell_type": "code",
   "execution_count": 16,
   "id": "6046911c",
   "metadata": {},
   "outputs": [
    {
     "name": "stdout",
     "output_type": "stream",
     "text": [
      "['blackberry', 'banana', 'cherry', 'mango', 'guava', 'pineapple', 'grapes']\n",
      "['apple', 'banana', 'cherry', 'mango', 'orange', 'watermelon', 'guava', 'pineapple', 'grapes']\n"
     ]
    }
   ],
   "source": [
    "#changing list items\n",
    "list3=[\"apple\",\"banana\",\"cherry\",\"mango\",\"guava\",\"pineapple\",\"grapes\"]\n",
    "list3[0]=\"blackberry\"\n",
    "print(list3)\n",
    "\n",
    "\n",
    "list3=[\"apple\",\"banana\",\"cherry\",\"mango\",\"guava\",\"pineapple\",\"grapes\"]\n",
    "list3[4:2]=[\"orange\",\"watermelon\"]\n",
    "print(list3)"
   ]
  },
  {
   "cell_type": "code",
   "execution_count": 19,
   "id": "73f667b7",
   "metadata": {},
   "outputs": [
    {
     "name": "stdout",
     "output_type": "stream",
     "text": [
      "['apple', 'banana', 'cherry', 'mango', 'guava', 'pineapple', 'pineapple', 'grapes']\n",
      "['apple', 'banana', 'cherry', 'mango', 'guava', 'pineapple', 'grapes', 'avacado']\n",
      "['apple', 'banana', 'cherry', 'mango', 'guava', 'pineapple', 'grapes', 'carrot', 'patato']\n"
     ]
    }
   ],
   "source": [
    "#insert element\n",
    "list3=[\"apple\",\"banana\",\"cherry\",\"mango\",\"guava\",\"pineapple\",\"grapes\"]\n",
    "list3.insert(5,\"pineapple\")\n",
    "print(list3)\n",
    "\n",
    "#append item\n",
    "list3=[\"apple\",\"banana\",\"cherry\",\"mango\",\"guava\",\"pineapple\",\"grapes\"]\n",
    "list3.append(\"avacado\")\n",
    "print(list3)\n",
    "\n",
    "#extend list items\n",
    "list3=[\"apple\",\"banana\",\"cherry\",\"mango\",\"guava\",\"pineapple\",\"grapes\"]\n",
    "extended=[\"carrot\",\"patato\"]\n",
    "list3.extend(extended)\n",
    "print(list3)\n",
    "\n"
   ]
  },
  {
   "cell_type": "code",
   "execution_count": 30,
   "id": "f554a2af",
   "metadata": {},
   "outputs": [
    {
     "name": "stdout",
     "output_type": "stream",
     "text": [
      "['apple', 'banana', 'mango', 'guava', 'pineapple', 'grapes']\n",
      "['apple', 'banana', 'cherry', 'mango', 'pineapple', 'grapes']\n",
      "['apple', 'banana', 'cherry', 'guava', 'pineapple', 'grapes']\n",
      "[]\n"
     ]
    }
   ],
   "source": [
    "#remove from list\n",
    "\n",
    "list3=[\"apple\",\"banana\",\"cherry\",\"mango\",\"guava\",\"pineapple\",\"grapes\"]\n",
    "list3.remove(\"cherry\")\n",
    "print(list3)\n",
    "\n",
    "#pop\n",
    "list3=[\"apple\",\"banana\",\"cherry\",\"mango\",\"guava\",\"pineapple\",\"grapes\"]\n",
    "list3.pop(4)\n",
    "print(list3)\n",
    "\n",
    "#del\n",
    "list3=[\"apple\",\"banana\",\"cherry\",\"mango\",\"guava\",\"pineapple\",\"grapes\"]\n",
    "del list3[3]\n",
    "print(list3)\n",
    "\n",
    "#clear\n",
    "list4=[\"apple\",\"banana\",\"cherry\",\"mango\",\"guava\",\"pineapple\",\"grapes\"]\n",
    "list4.clear()\n",
    "print(list4)\n"
   ]
  },
  {
   "cell_type": "code",
   "execution_count": 31,
   "id": "622b9b92",
   "metadata": {},
   "outputs": [
    {
     "name": "stdout",
     "output_type": "stream",
     "text": [
      "apple\n",
      "banana\n",
      "cherry\n",
      "mango\n",
      "guava\n",
      "pineapple\n",
      "grapes\n"
     ]
    }
   ],
   "source": [
    "#loops in list\n",
    "\n",
    "list3=[\"apple\",\"banana\",\"cherry\",\"mango\",\"guava\",\"pineapple\",\"grapes\"]\n",
    "for i in list3:\n",
    "    print(i)\n",
    "\n"
   ]
  },
  {
   "cell_type": "code",
   "execution_count": 34,
   "id": "c26efd53",
   "metadata": {},
   "outputs": [
    {
     "name": "stdout",
     "output_type": "stream",
     "text": [
      "['apple', 'banana', 'cherry', 'grapes', 'guava', 'mango', 'pineapple']\n",
      "[5, 10, 20, 33, 40, 47, 70, 87]\n",
      "[87, 70, 47, 40, 33, 20, 10, 5]\n"
     ]
    }
   ],
   "source": [
    "#sorting list\n",
    "\n",
    "list3=[\"apple\",\"banana\",\"cherry\",\"mango\",\"guava\",\"pineapple\",\"grapes\"]\n",
    "list3.sort()\n",
    "print(list3)        #according to aplhabets\n",
    "\n",
    "\n",
    "list4=[40,47,70,10,20,5,87,33]\n",
    "list4.sort()\n",
    "print(list4)\n",
    "\n",
    "list4=[40,47,70,10,20,5,87,33]\n",
    "list4.sort(reverse=True)\n",
    "print(list4)"
   ]
  },
  {
   "cell_type": "code",
   "execution_count": null,
   "id": "e65c315e",
   "metadata": {},
   "outputs": [],
   "source": [
    "#copy list    list cannot be copy as list1=list2 \n",
    "\n"
   ]
  },
  {
   "cell_type": "code",
   "execution_count": 39,
   "id": "609c2331",
   "metadata": {},
   "outputs": [
    {
     "name": "stdout",
     "output_type": "stream",
     "text": [
      "[40, 47, 70, 10, 20, 5, 87, 33]\n"
     ]
    }
   ],
   "source": [
    "list4=[40,47,70,10,20,5,87,33]\n",
    "copied_list=list4.copy()\n",
    "print(copied_list)"
   ]
  },
  {
   "cell_type": "code",
   "execution_count": null,
   "id": "fa975685",
   "metadata": {},
   "outputs": [
    {
     "name": "stdout",
     "output_type": "stream",
     "text": [
      "['apple', 'banana', 'cherry', 'mango', 'guava', 'pineapple', 'grapes', 40, 47, 70, 10, 20, 5, 87, 33]\n",
      "['apple', 'banana', 'cherry', 'mango', 'guava', 'pineapple', 'grapes', 40, 47, 70, 10, 20, 5, 87, 33, 40, 47, 70, 10, 20, 5, 87, 33]\n"
     ]
    }
   ],
   "source": [
    "#joining two list\n",
    "\n",
    "list3=[\"apple\",\"banana\",\"cherry\",\"mango\",\"guava\",\"pineapple\",\"grapes\"]\n",
    "list4=[40,47,70,10,20,5,87,33]\n",
    "\n",
    "list3.extend(list4)\n",
    "print(list3)\n"
   ]
  },
  {
   "cell_type": "markdown",
   "id": "4db5e7d6",
   "metadata": {},
   "source": [
    "append()\t   :Adds an element at the end of the list\n",
    "\n",
    "clear()\t       :Removes all the elements from the list\n",
    "\n",
    "copy()\t       :Returns a copy of the list\n",
    "\n",
    "count()\t       :Returns the number of elements with the specified value\n",
    "\n",
    "extend()\t   :Add the elements of a list (or any iterable), to the end of the current list\n",
    "\n",
    "index()        :Returns the index of the first element with the specified value\n",
    "\n",
    "insert()\t   :Adds an element at the specified position\n",
    "\n",
    "pop()\t       :Removes the element at the specified position\n",
    "\n",
    "remove()\t   :Removes the item with the specified value\n",
    "\n",
    "reverse()\t   :Reverses the order of the list\n",
    "\n",
    "sort()\t       : Sorts the list"
   ]
  },
  {
   "cell_type": "code",
   "execution_count": null,
   "id": "05bb04d7",
   "metadata": {},
   "outputs": [],
   "source": []
  },
  {
   "cell_type": "code",
   "execution_count": null,
   "id": "a946f2ae",
   "metadata": {},
   "outputs": [],
   "source": []
  },
  {
   "cell_type": "code",
   "execution_count": null,
   "id": "93ff0a56",
   "metadata": {},
   "outputs": [],
   "source": []
  },
  {
   "cell_type": "code",
   "execution_count": null,
   "id": "81c7ba64",
   "metadata": {},
   "outputs": [],
   "source": []
  },
  {
   "cell_type": "code",
   "execution_count": null,
   "id": "58bbebf5",
   "metadata": {},
   "outputs": [],
   "source": []
  },
  {
   "cell_type": "code",
   "execution_count": null,
   "id": "84197c7a",
   "metadata": {},
   "outputs": [],
   "source": []
  }
 ],
 "metadata": {
  "kernelspec": {
   "display_name": "Python 3",
   "language": "python",
   "name": "python3"
  },
  "language_info": {
   "codemirror_mode": {
    "name": "ipython",
    "version": 3
   },
   "file_extension": ".py",
   "mimetype": "text/x-python",
   "name": "python",
   "nbconvert_exporter": "python",
   "pygments_lexer": "ipython3",
   "version": "3.12.0"
  }
 },
 "nbformat": 4,
 "nbformat_minor": 5
}
