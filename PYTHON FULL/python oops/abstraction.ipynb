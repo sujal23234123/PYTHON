{
 "cells": [
  {
   "cell_type": "code",
   "execution_count": 5,
   "id": "69fcd8bb",
   "metadata": {},
   "outputs": [
    {
     "name": "stdout",
     "output_type": "stream",
     "text": [
      "engine is started\n",
      "the vehicle is used to drive\n",
      "engine is started\n"
     ]
    }
   ],
   "source": [
    "from abc import ABC,abstractmethod\n",
    "\n",
    "class vehicle(ABC):\n",
    "    def drive(self):\n",
    "        print(\"the vehicle is used to drive\")\n",
    "\n",
    "    @abstractmethod\n",
    "    def start_engine(self):\n",
    "        pass\n",
    "class Car(vehicle):\n",
    "    def start_engine(self):\n",
    "        print(\"engine is started\")\n",
    "\n",
    "def operate_vehicle(vehicle):\n",
    "    vehicle.start_engine()\n",
    "\n",
    "car=Car()\n",
    "car.start_engine()\n",
    "car.drive()\n",
    "operate_vehicle(car)"
   ]
  }
 ],
 "metadata": {
  "kernelspec": {
   "display_name": "Python 3",
   "language": "python",
   "name": "python3"
  },
  "language_info": {
   "codemirror_mode": {
    "name": "ipython",
    "version": 3
   },
   "file_extension": ".py",
   "mimetype": "text/x-python",
   "name": "python",
   "nbconvert_exporter": "python",
   "pygments_lexer": "ipython3",
   "version": "3.12.0"
  }
 },
 "nbformat": 4,
 "nbformat_minor": 5
}
