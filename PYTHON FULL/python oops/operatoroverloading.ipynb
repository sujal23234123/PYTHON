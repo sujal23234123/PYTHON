{
 "cells": [
  {
   "cell_type": "code",
   "execution_count": 9,
   "id": "b5c76c7d",
   "metadata": {},
   "outputs": [
    {
     "name": "stdout",
     "output_type": "stream",
     "text": [
      "6 9\n",
      "-2 -3\n",
      "6 9\n",
      "False False\n"
     ]
    }
   ],
   "source": [
    "class vector:\n",
    "\n",
    "    def __init__(self,x,y):\n",
    "        self.x=x\n",
    "        self.y=y\n",
    "\n",
    "    def __add__(self,other):\n",
    "        return vector (self.x+other.x,self.y+other.y) \n",
    "    def __sub__(self,other):\n",
    "        return vector(self.x-other.x,self.y-other.y)\n",
    "    def __mul__(self,other):\n",
    "        return vector(self.x*other,self.y*other)\n",
    "    def __eq__(self,other):\n",
    "        return vector(self.x==other.x,self.y==other.y)\n",
    "    def __repr__(self):\n",
    "        return f\"{self.x} {self.y}\"\n",
    "    \n",
    "V1=vector(2,3)\n",
    "V2=vector(4,6)\n",
    "\n",
    "print(V1+V2)\n",
    "print(V1-V2)\n",
    "print(V1*3)\n",
    "print(V1==V2)\n",
    "\n",
    "    "
   ]
  }
 ],
 "metadata": {
  "kernelspec": {
   "display_name": "Python 3",
   "language": "python",
   "name": "python3"
  },
  "language_info": {
   "codemirror_mode": {
    "name": "ipython",
    "version": 3
   },
   "file_extension": ".py",
   "mimetype": "text/x-python",
   "name": "python",
   "nbconvert_exporter": "python",
   "pygments_lexer": "ipython3",
   "version": "3.12.0"
  }
 },
 "nbformat": 4,
 "nbformat_minor": 5
}
