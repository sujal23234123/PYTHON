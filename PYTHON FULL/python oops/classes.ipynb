{
 "cells": [
  {
   "cell_type": "code",
   "execution_count": 3,
   "id": "b7395cef",
   "metadata": {},
   "outputs": [
    {
     "name": "stdout",
     "output_type": "stream",
     "text": [
      "<__main__.person object at 0x00000120402BDE80>\n",
      "sujal\n",
      "20\n",
      "<__main__.person object at 0x00000120403BC530>\n",
      "crish\n",
      "20\n"
     ]
    }
   ],
   "source": [
    "#class\n",
    "\n",
    "class person:\n",
    "    def __init__(self,name,age):\n",
    "        self.name=name\n",
    "        self.age=age\n",
    "    \n",
    "person1=person('sujal',20)\n",
    "print(person1)\n",
    "print(person1.name)\n",
    "print(person1.age)\n",
    "\n",
    "person2=person(\"crish\",20)\n",
    "print(person2)\n",
    "print(person2.name)\n",
    "print(person2.age)\n",
    "\n",
    "\n",
    "\n",
    "        "
   ]
  },
  {
   "cell_type": "code",
   "execution_count": 6,
   "id": "97521fc7",
   "metadata": {},
   "outputs": [
    {
     "name": "stdout",
     "output_type": "stream",
     "text": [
      "sujal says hiii to you\n",
      "crish says hiii to you\n"
     ]
    }
   ],
   "source": [
    "#class with methods\n",
    "\n",
    "class personn:\n",
    "    def __init__(self,name,age):\n",
    "        self.name=name\n",
    "        self.age=age\n",
    "    def says(self):\n",
    "        print(f\"{self.name} says hiii to you\")\n",
    "\n",
    "person3=personn(\"sujal\",20)\n",
    "person3.says()\n",
    "\n",
    "person4=personn(\"crish\",20)\n",
    "person4.says()\n",
    "\n",
    "        "
   ]
  },
  {
   "cell_type": "code",
   "execution_count": 12,
   "metadata": {},
   "outputs": [
    {
     "name": "stdout",
     "output_type": "stream",
     "text": [
      "5000\n",
      "<__main__.Bankaccount object at 0x00000120403EE8D0>\n",
      "your amount of  :3000 is added and now the balance is  :8000\n",
      "you have debited amount of  :5000 and now the balance is  : 3000\n",
      "you have debited amount of  :3000 and now the balance is  : 0\n",
      "low on balance please deposite more to withdraw\n"
     ]
    }
   ],
   "source": [
    "#making an bank account with class\n",
    "\n",
    "class Bankaccount:\n",
    "    def __init__(self,owner,balance=0):\n",
    "        self.owner=owner\n",
    "        self.balance=balance\n",
    "    \n",
    "    def deposite(self,amount):\n",
    "        self.balance+=amount\n",
    "        print(f\"your amount of  :{amount} is added and now the balance is  :{self.balance}\")\n",
    "\n",
    "    def withdraw(self,amount):\n",
    "        if amount>self.balance:\n",
    "            print(\"low on balance please deposite more to withdraw\")\n",
    "        else:\n",
    "            self.balance-=amount\n",
    "            print(f\"you have debited amount of  :{amount} and now the balance is  : {self.balance}\")\n",
    "    def get_balance(self):\n",
    "        print(self.balance)\n",
    "\n",
    "account=Bankaccount(\"sujal\",5000)\n",
    "account.get_balance()\n",
    "print(account)\n",
    "\n",
    "account.deposite(3000)\n",
    "account.withdraw(5000)\n",
    "account.withdraw(3000)\n",
    "account.withdraw(3000)\n"
   ]
  },
  {
   "cell_type": "code",
   "execution_count": null,
   "metadata": {},
   "outputs": [],
   "source": []
  },
  {
   "cell_type": "code",
   "execution_count": 6,
   "id": "788b9272",
   "metadata": {},
   "outputs": [
    {
     "name": "stdout",
     "output_type": "stream",
     "text": [
      "10000\n",
      "you have deposite amount of  :5000 in your account now the balance is  :15000\n",
      "you have withdraw amount of  :10000 from your account now to balance is  :5000\n",
      "you have withdraw amount of  :5000 from your account now to balance is  :0\n",
      "low on balance\n"
     ]
    }
   ],
   "source": [
    "class bankaccount:\n",
    "\n",
    "    def __init__(self,owner,balance=0):\n",
    "        self.owner=owner\n",
    "        self.balance=balance\n",
    "\n",
    "    def deposite(self,amount):\n",
    "        self.balance+=amount\n",
    "        print(f\"you have deposite amount of  :{amount} in your account now the balance is  :{self.balance}\")\n",
    "    def withdraw(self,amount):\n",
    "        if self.balance<amount:\n",
    "            print(\"low on balance\")\n",
    "        else:\n",
    "             self.balance-=amount\n",
    "             print(f\"you have withdraw amount of  :{amount} from your account now to balance is  :{self.balance}\")\n",
    "    def get_balance(self):\n",
    "        print(self.balance)\n",
    "\n",
    "account=bankaccount(\"sujal\",10000)\n",
    "account.get_balance()\n",
    "account.deposite(5000)\n",
    "account.withdraw(10000)\n",
    "account.withdraw(5000)\n",
    "account.withdraw(5000)\n",
    "    \n",
    "\n"
   ]
  },
  {
   "cell_type": "code",
   "execution_count": null,
   "id": "5ec6fa86",
   "metadata": {},
   "outputs": [],
   "source": []
  },
  {
   "cell_type": "code",
   "execution_count": null,
   "metadata": {},
   "outputs": [],
   "source": []
  },
  {
   "cell_type": "code",
   "execution_count": null,
   "metadata": {},
   "outputs": [],
   "source": []
  },
  {
   "cell_type": "code",
   "execution_count": null,
   "metadata": {},
   "outputs": [],
   "source": []
  },
  {
   "cell_type": "code",
   "execution_count": null,
   "id": "f7966cd8",
   "metadata": {},
   "outputs": [],
   "source": []
  },
  {
   "cell_type": "code",
   "execution_count": null,
   "id": "59d3b5f0",
   "metadata": {},
   "outputs": [],
   "source": []
  },
  {
   "cell_type": "code",
   "execution_count": null,
   "id": "5a168419",
   "metadata": {},
   "outputs": [],
   "source": []
  },
  {
   "cell_type": "code",
   "execution_count": null,
   "metadata": {},
   "outputs": [],
   "source": []
  },
  {
   "cell_type": "code",
   "execution_count": null,
   "id": "63ba5895",
   "metadata": {},
   "outputs": [],
   "source": []
  },
  {
   "cell_type": "code",
   "execution_count": null,
   "id": "d2d81cbf",
   "metadata": {},
   "outputs": [],
   "source": []
  },
  {
   "cell_type": "code",
   "execution_count": null,
   "id": "70c0289d",
   "metadata": {},
   "outputs": [],
   "source": []
  },
  {
   "cell_type": "code",
   "execution_count": null,
   "id": "3ed9cb7f",
   "metadata": {},
   "outputs": [],
   "source": []
  },
  {
   "cell_type": "code",
   "execution_count": null,
   "id": "35b0543e",
   "metadata": {},
   "outputs": [],
   "source": []
  }
 ],
 "metadata": {
  "kernelspec": {
   "display_name": "Python 3",
   "language": "python",
   "name": "python3"
  },
  "language_info": {
   "codemirror_mode": {
    "name": "ipython",
    "version": 3
   },
   "file_extension": ".py",
   "mimetype": "text/x-python",
   "name": "python",
   "nbconvert_exporter": "python",
   "pygments_lexer": "ipython3",
   "version": "3.12.0"
  }
 },
 "nbformat": 4,
 "nbformat_minor": 5
}
