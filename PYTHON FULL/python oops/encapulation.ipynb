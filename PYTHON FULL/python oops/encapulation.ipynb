{
 "cells": [
  {
   "cell_type": "markdown",
   "id": "a20d4664",
   "metadata": {},
   "source": [
    "ENCAPULATION\n",
    "\n",
    "HIDDING INTERNAL DETAILS AND SHOWING ONLY IMPORTANT DETAILS TO USER"
   ]
  },
  {
   "cell_type": "code",
   "execution_count": null,
   "id": "bf6a8dc3",
   "metadata": {},
   "outputs": [],
   "source": []
  },
  {
   "cell_type": "code",
   "execution_count": null,
   "id": "399ff195",
   "metadata": {},
   "outputs": [
    {
     "name": "stdout",
     "output_type": "stream",
     "text": [
      "sujal\n",
      "None\n",
      "20\n",
      "None\n"
     ]
    }
   ],
   "source": [
    "#public variable\n",
    "\n",
    "class Person:\n",
    "    def __init__(self, name, age, gender):\n",
    "        self.name = name\n",
    "        self.age = age\n",
    "        self.gender = gender\n",
    "\n",
    "    def get_name(self):\n",
    "        print(self.name)\n",
    "\n",
    "    def get_age(self):\n",
    "        print(self.age)\n",
    "\n",
    "person1 = Person(\"sujal\", \"20\", \"male\")\n",
    "print(person1.get_name())\n",
    "print(person1.get_age())\n"
   ]
  },
  {
   "cell_type": "code",
   "execution_count": 7,
   "id": "7236adf9",
   "metadata": {},
   "outputs": [
    {
     "name": "stdout",
     "output_type": "stream",
     "text": [
      "sujal\n",
      "None\n",
      "crish\n",
      "20\n",
      "None\n",
      "22\n"
     ]
    }
   ],
   "source": [
    "#protected   :used by only inherited functions not outside the class\n",
    "\n",
    "class person_1:\n",
    "    def __init__(self,name,age,gender):\n",
    "        self._name=name\n",
    "        self._age=age\n",
    "        self._gender=gender\n",
    "\n",
    "    def get_name(self):\n",
    "        return self._name\n",
    "\n",
    "    def set_name(self,name):\n",
    "         self._name=name\n",
    "\n",
    "    def get_age(self):\n",
    "        return self._age\n",
    "    def set_age(self,age):\n",
    "        self._age=age\n",
    "person2=person_1(\"sujal\",20,\"male\")\n",
    "print(person2.get_name())\n",
    "print(person2.set_name(\"crish\"))\n",
    "print(person2.get_name())\n",
    "print(person2.get_age())\n",
    "print(person2.set_age(22))\n",
    "print(person2.get_age())\n"
   ]
  },
  {
   "cell_type": "code",
   "execution_count": 22,
   "id": "57d6a33f",
   "metadata": {},
   "outputs": [
    {
     "name": "stdout",
     "output_type": "stream",
     "text": [
      "sujal\n",
      "om\n",
      "20\n",
      "22\n"
     ]
    }
   ],
   "source": [
    "#private   :connot be used outside the class or inherited class \n",
    "\n",
    "class person_2:\n",
    "\n",
    "    def __init__(self,name,age,gender):\n",
    "        self.__name=name\n",
    "        self.__age=age\n",
    "        self.__gender=gender\n",
    "\n",
    "\n",
    "    def get_name(self):\n",
    "        return self.__name\n",
    "    \n",
    "    def set_name(self,name):\n",
    "        self.__name=name\n",
    "\n",
    "    def get_age(self):\n",
    "        return self.__age\n",
    "    \n",
    "    def set_age(self,age):\n",
    "        self.__age=age\n",
    "    \n",
    "\n",
    "person3=person_2(\"sujal\",20,\"male\")\n",
    "print(person3.get_name())\n",
    "person3.set_name(\"om\")\n",
    "print(person3.get_name())\n",
    "print(person3.get_age())\n",
    "person3.set_age(22)\n",
    "print(person3.get_age())\n",
    "\n"
   ]
  },
  {
   "cell_type": "code",
   "execution_count": null,
   "id": "309869d5",
   "metadata": {},
   "outputs": [
    {
     "name": "stdout",
     "output_type": "stream",
     "text": [
      "sujal\n",
      "sujalll\n",
      "20\n",
      "21\n"
     ]
    }
   ],
   "source": [
    "\n",
    "#practice protected\n",
    "\n",
    "class person123:\n",
    "\n",
    "    def __init__(self,name,age):\n",
    "        self._name=name\n",
    "        self._age=age\n",
    "\n",
    "    def get_name(self):\n",
    "        return self._name\n",
    "    def set_name(self,name):\n",
    "        self._name=name\n",
    "    \n",
    "    def get_age(self):\n",
    "        return self._age\n",
    "    \n",
    "    def set_age(self,age):\n",
    "        self._age=age\n",
    "\n",
    "persons1=person123(\"sujal\",20)\n",
    "print(persons1.get_name())\n",
    "persons1.set_name(\"sujalll\")\n",
    "print(persons1.get_name())\n",
    "print(persons1.get_age())\n",
    "persons1.set_age(21)\n",
    "print(persons1.get_age())\n"
   ]
  },
  {
   "cell_type": "code",
   "execution_count": null,
   "id": "a57f3f08",
   "metadata": {},
   "outputs": [],
   "source": []
  }
 ],
 "metadata": {
  "kernelspec": {
   "display_name": "Python 3",
   "language": "python",
   "name": "python3"
  },
  "language_info": {
   "codemirror_mode": {
    "name": "ipython",
    "version": 3
   },
   "file_extension": ".py",
   "mimetype": "text/x-python",
   "name": "python",
   "nbconvert_exporter": "python",
   "pygments_lexer": "ipython3",
   "version": "3.12.0"
  }
 },
 "nbformat": 4,
 "nbformat_minor": 5
}
