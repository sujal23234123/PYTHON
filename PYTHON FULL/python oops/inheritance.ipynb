{
 "cells": [
  {
   "cell_type": "code",
   "execution_count": null,
   "id": "07490d30",
   "metadata": {},
   "outputs": [
    {
     "name": "stdout",
     "output_type": "stream",
     "text": [
      "the car supra uses enginetype   :petrol\n",
      "<__main__.car object at 0x000001E1E6C1E2A0>\n",
      "the car tesla uses enginetype   :electric engine\n",
      "the tesla car run with a speed of   :220\n",
      "<__main__.tesla object at 0x000001E1E6C1F470>\n"
     ]
    }
   ],
   "source": [
    "class car:\n",
    "    def __init__(self,name,windows,doors,enginetype):\n",
    "        self.name=name\n",
    "        self.windows=windows\n",
    "        self.doors=doors\n",
    "        self.enginetype=enginetype\n",
    "    def drive(self):\n",
    "        print(f\"the car {self.name} uses enginetype   :{self.enginetype}\")\n",
    "\n",
    "\n",
    "class tesla(car):\n",
    "    def __init__(self,name,windows,doors,enginetype,speed):\n",
    "        super().__init__(name,windows,doors,enginetype)\n",
    "        self.speed=speed\n",
    "    def withspeed(self):\n",
    "        print(f\"the tesla car run with a speed of   :{self.speed}\")\n",
    "\n",
    "supra=car('supra',4,4,'petrol')\n",
    "supra.drive()\n",
    "print(supra)\n",
    "\n",
    "tesla1=tesla('tesla',4,4,'electric engine',220)\n",
    "tesla1.drive()\n",
    "tesla1.withspeed()\n",
    "print(tesla1)\n",
    "\n"
   ]
  },
  {
   "cell_type": "code",
   "execution_count": null,
   "id": "d1827213",
   "metadata": {},
   "outputs": [
    {
     "name": "stdout",
     "output_type": "stream",
     "text": [
      "the owner of this dog is  :sujal and the dog name is    :tommy and he says woof\n",
      "the dog owner sujal found his dog  :tommy\n"
     ]
    }
   ],
   "source": [
    "#multiple inheritance               #inherit two class in one single class\n",
    "\n",
    "class Animal:\n",
    "    def __init__(self,name):\n",
    "        self.name=name\n",
    "\n",
    "    def speak(self):\n",
    "        print(\"the animal is telling something\")\n",
    "\n",
    "\n",
    "class Dog:\n",
    "    def __init__(self,owner):\n",
    "        self.owner=owner\n",
    "    \n",
    "class final(Animal,Dog):\n",
    "    def __init__(self,name,owner):\n",
    "        Animal.__init__(self,name)\n",
    "        Dog.__init__(self,owner)\n",
    "\n",
    "    def speak(self):\n",
    "        print(f\"the owner of this dog is  :{self.owner} and the dog name is    :{self.name} and he says woof\")\n",
    "\n",
    "\n",
    "the_animal=final('tommy','sujal')\n",
    "the_animal.speak()\n",
    "print(f\"the dog owner {the_animal.owner} found his dog  :{the_animal.name}\")\n",
    "        "
   ]
  },
  {
   "cell_type": "code",
   "execution_count": 7,
   "id": "320eaa13",
   "metadata": {},
   "outputs": [
    {
     "name": "stdout",
     "output_type": "stream",
     "text": [
      "the carname is  :toyataruns with a engine   :petrol \n",
      "the carname is  :teslaruns with a engine   :electric \n",
      "the car run at speed of 220\n"
     ]
    }
   ],
   "source": [
    "#practice inheritance\n",
    "\n",
    "class car:\n",
    "    def __init__(self,carname,windows,doors,enginetype):\n",
    "        self.carname=carname\n",
    "        self.windows=windows\n",
    "        self.doors=doors\n",
    "        self.enginetype=enginetype\n",
    "    def drive(self):\n",
    "        print(f\"the carname is  :{self.carname}runs with a engine   :{self.enginetype} \")\n",
    "\n",
    "class tesla(car):\n",
    "    def __init__(self,carname,windows,doors,enginetype,speed):\n",
    "        super().__init__(carname,windows,doors,enginetype)\n",
    "        self.speed=speed\n",
    "    def withspeed(self):\n",
    "        print(f\"the car run at speed of {self.speed}\")\n",
    "\n",
    "supra=car(\"toyata\",\"4\",\"4\",\"petrol\")\n",
    "supra.drive()\n",
    "\n",
    "teslaa=tesla(\"tesla\",\"4\",\"4\",\"electric\",\"220\")\n",
    "teslaa.drive()\n",
    "teslaa.withspeed()"
   ]
  },
  {
   "cell_type": "code",
   "execution_count": null,
   "id": "d977fb11",
   "metadata": {},
   "outputs": [],
   "source": []
  },
  {
   "cell_type": "code",
   "execution_count": null,
   "id": "7f2f0758",
   "metadata": {},
   "outputs": [],
   "source": []
  },
  {
   "cell_type": "code",
   "execution_count": null,
   "id": "078f38f6",
   "metadata": {},
   "outputs": [],
   "source": []
  },
  {
   "cell_type": "code",
   "execution_count": null,
   "id": "84598f23",
   "metadata": {},
   "outputs": [],
   "source": []
  },
  {
   "cell_type": "code",
   "execution_count": null,
   "id": "69f3379b",
   "metadata": {},
   "outputs": [],
   "source": []
  },
  {
   "cell_type": "code",
   "execution_count": null,
   "id": "7708332b",
   "metadata": {},
   "outputs": [],
   "source": []
  },
  {
   "cell_type": "code",
   "execution_count": null,
   "id": "5e0e28a8",
   "metadata": {},
   "outputs": [],
   "source": []
  },
  {
   "cell_type": "code",
   "execution_count": null,
   "id": "f49faeeb",
   "metadata": {},
   "outputs": [],
   "source": []
  }
 ],
 "metadata": {
  "kernelspec": {
   "display_name": "Python 3",
   "language": "python",
   "name": "python3"
  },
  "language_info": {
   "codemirror_mode": {
    "name": "ipython",
    "version": 3
   },
   "file_extension": ".py",
   "mimetype": "text/x-python",
   "name": "python",
   "nbconvert_exporter": "python",
   "pygments_lexer": "ipython3",
   "version": "3.12.0"
  }
 },
 "nbformat": 4,
 "nbformat_minor": 5
}
