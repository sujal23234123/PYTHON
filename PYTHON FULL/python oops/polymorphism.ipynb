{
 "cells": [
  {
   "cell_type": "code",
   "execution_count": null,
   "id": "c9dc1c2a",
   "metadata": {},
   "outputs": [
    {
     "name": "stdout",
     "output_type": "stream",
     "text": [
      "the dog speaks woof\n",
      "the cat speak meow\n"
     ]
    }
   ],
   "source": [
    "#polymorphism means many forms and same methods can me use with same name in another classes\n",
    "\n",
    "\n",
    "class Animal:\n",
    "    def speak(self):\n",
    "        print(\"the animal speak\")\n",
    "\n",
    "class Dog(Animal):\n",
    "    def speak(self):\n",
    "        print(\"the dog speaks woof\")\n",
    "\n",
    "class Cat(Animal):\n",
    "    def speak(self):\n",
    "        print(\"the cat speak meow\")\n",
    "\n",
    "dog=Dog()\n",
    "dog.speak()\n",
    "cat=Cat()\n",
    "cat.speak()"
   ]
  },
  {
   "cell_type": "code",
   "execution_count": null,
   "id": "b1c9797d",
   "metadata": {},
   "outputs": [],
   "source": []
  },
  {
   "cell_type": "code",
   "execution_count": 6,
   "id": "850aa908",
   "metadata": {},
   "outputs": [
    {
     "name": "stdout",
     "output_type": "stream",
     "text": [
      "20\n",
      "50.24\n"
     ]
    }
   ],
   "source": [
    "class area:\n",
    "    def area(self):\n",
    "        print(\"the area is  :\")\n",
    "\n",
    "class rectangle(area):\n",
    "    def __init__(self,width,height):\n",
    "        self.width=width\n",
    "        self.height=height\n",
    "\n",
    "    def area(self):\n",
    "        print(self.width*self.height)\n",
    "\n",
    "class circle(area):\n",
    "    def __init__(self,radius):\n",
    "        self.radius=radius\n",
    "\n",
    "    def area(self):\n",
    "        print(3.14*self.radius*self.radius)\n",
    "\n",
    "Rectangle=rectangle(4,5)\n",
    "Circle=circle(4)\n",
    "Rectangle.area()\n",
    "Circle.area()"
   ]
  },
  {
   "cell_type": "code",
   "execution_count": 5,
   "id": "9d47872b",
   "metadata": {},
   "outputs": [
    {
     "name": "stdout",
     "output_type": "stream",
     "text": [
      "42\n",
      "200.96\n"
     ]
    }
   ],
   "source": [
    "#practice\n",
    "\n",
    "class area:\n",
    "    def area(self):\n",
    "        print(\"the area is  :\")\n",
    "\n",
    "class rectangle:\n",
    "    def __init__(self,height,width):\n",
    "        self.height=height\n",
    "        self.width=width\n",
    "    def area(self):\n",
    "        print(self.height*self.width)\n",
    "\n",
    "class circle:\n",
    "    def __init__(self,radius):\n",
    "        self.radius=radius\n",
    "    def area(self):\n",
    "        print(3.14*self.radius*self.radius)\n",
    "\n",
    "Rectangle=rectangle(6,7)\n",
    "Circle=circle(8)\n",
    "Rectangle.area()\n",
    "Circle.area()\n"
   ]
  }
 ],
 "metadata": {
  "kernelspec": {
   "display_name": "Python 3",
   "language": "python",
   "name": "python3"
  },
  "language_info": {
   "codemirror_mode": {
    "name": "ipython",
    "version": 3
   },
   "file_extension": ".py",
   "mimetype": "text/x-python",
   "name": "python",
   "nbconvert_exporter": "python",
   "pygments_lexer": "ipython3",
   "version": "3.12.0"
  }
 },
 "nbformat": 4,
 "nbformat_minor": 5
}
