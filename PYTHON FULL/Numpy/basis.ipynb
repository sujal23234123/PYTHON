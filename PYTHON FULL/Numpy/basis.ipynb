{
 "cells": [
  {
   "cell_type": "code",
   "execution_count": null,
   "id": "2efa07ec",
   "metadata": {},
   "outputs": [
    {
     "name": "stdout",
     "output_type": "stream",
     "text": [
      "[1 2 3 4 5]\n",
      "<class 'numpy.ndarray'>\n",
      "(5,)\n"
     ]
    }
   ],
   "source": [
    "#creating a 1D array usig numpy\n",
    "\n",
    "import numpy as np\n",
    "\n",
    "arr1=np.array([1,2,3,4,5])\n",
    "print(arr1)\n",
    "print(type(arr1))\n",
    "print(arr1.shape)\n"
   ]
  },
  {
   "cell_type": "code",
   "execution_count": 7,
   "id": "c83b248b",
   "metadata": {},
   "outputs": [
    {
     "name": "stdout",
     "output_type": "stream",
     "text": [
      "[[ 1  2  3  4  5]\n",
      " [ 6  7  8  9 10]]\n",
      "<class 'numpy.ndarray'>\n",
      "(2, 5)\n"
     ]
    }
   ],
   "source": [
    "#creating a 2D array\n",
    "\n",
    "import numpy as np\n",
    "\n",
    "arr2=np.array([[1,2,3,4,5],[6,7,8,9,10]])\n",
    "print(arr2)\n",
    "print(type(arr2))\n",
    "print(arr2.shape)"
   ]
  },
  {
   "cell_type": "code",
   "execution_count": 12,
   "id": "7747c178",
   "metadata": {},
   "outputs": [
    {
     "name": "stdout",
     "output_type": "stream",
     "text": [
      "[[ 0  1  2  3]\n",
      " [ 4  5  6  7]\n",
      " [ 8  9 10 11]]\n"
     ]
    }
   ],
   "source": [
    "#creating array with arange() function\n",
    "\n",
    "import numpy as np\n",
    "\n",
    "arr3=np.arange(0,12,1).reshape(3,4)\n",
    "print(arr3)"
   ]
  },
  {
   "cell_type": "code",
   "execution_count": 22,
   "id": "20138d32",
   "metadata": {},
   "outputs": [
    {
     "name": "stdout",
     "output_type": "stream",
     "text": [
      "[[1. 1. 1. 1.]\n",
      " [1. 1. 1. 1.]\n",
      " [1. 1. 1. 1.]]\n",
      "\n",
      "\n",
      "[[0. 0. 0. 0.]\n",
      " [0. 0. 0. 0.]\n",
      " [0. 0. 0. 0.]]\n",
      "\n",
      "\n",
      "[[1. 0. 0.]\n",
      " [0. 1. 0.]\n",
      " [0. 0. 1.]]\n"
     ]
    }
   ],
   "source": [
    "#1s matrix\n",
    "\n",
    "import numpy as np\n",
    "\n",
    "arr4=np.ones((3,4))\n",
    "print(arr4)\n",
    "print(\"\\n\")\n",
    "\n",
    "#0s matrix\n",
    "arr5=np.zeros((3,4))\n",
    "print(arr5)\n",
    "print(\"\\n\")\n",
    "\n",
    "#identity matrix\n",
    "\n",
    "arr6=np.eye(3)\n",
    "print(arr6)"
   ]
  },
  {
   "cell_type": "code",
   "execution_count": 27,
   "id": "a9f154d4",
   "metadata": {},
   "outputs": [
    {
     "name": "stdout",
     "output_type": "stream",
     "text": [
      "[[ 1  2  3  4  5]\n",
      " [ 6  7  8  9 10]]\n",
      "(2, 5)\n",
      "2\n",
      "10\n",
      "int64\n",
      "8\n"
     ]
    }
   ],
   "source": [
    "#functions in array\n",
    "import numpy as np\n",
    "arr7=np.array([[1,2,3,4,5],[6,7,8,9,10]])\n",
    "\n",
    "print(arr7)\n",
    "print(arr7.shape)\n",
    "print(arr7.ndim)\n",
    "print(arr7.size)\n",
    "print(arr7.dtype)\n",
    "print(arr7.itemsize)\n"
   ]
  },
  {
   "cell_type": "code",
   "execution_count": 31,
   "id": "de361237",
   "metadata": {},
   "outputs": [
    {
     "name": "stdout",
     "output_type": "stream",
     "text": [
      "[ 7  9 11 13 15]\n",
      "[ 6 14 24 36 50]\n",
      "[0.16666667 0.28571429 0.375      0.44444444 0.5       ]\n",
      "[-5 -5 -5 -5 -5]\n"
     ]
    }
   ],
   "source": [
    "#vectorization in array\n",
    "import numpy as np\n",
    "arr8=np.array([1,2,3,4,5])\n",
    "arr9=np.array([6,7,8,9,10])\n",
    "\n",
    "print(arr8+arr9)\n",
    "print(arr8*arr9)\n",
    "print(arr8/arr9)\n",
    "print(arr8-arr9)"
   ]
  },
  {
   "cell_type": "code",
   "execution_count": 36,
   "id": "d24d6114",
   "metadata": {},
   "outputs": [
    {
     "name": "stdout",
     "output_type": "stream",
     "text": [
      "[1.         1.41421356 1.73205081 2.         2.23606798]\n",
      "[  2.71828183   7.3890561   20.08553692  54.59815003 148.4131591 ]\n",
      "[ 0.84147098  0.90929743  0.14112001 -0.7568025  -0.95892427]\n",
      "[ 0.54030231 -0.41614684 -0.9899925  -0.65364362  0.28366219]\n",
      "[ 1.55740772 -2.18503986 -0.14254654  1.15782128 -3.38051501]\n"
     ]
    }
   ],
   "source": [
    "#more functions\n",
    "\n",
    "import numpy as np\n",
    "\n",
    "arr=np.array([1,2,3,4,5])\n",
    "\n",
    "#square root\n",
    "print(np.sqrt(arr))\n",
    "\n",
    "#expoential\n",
    "print(np.exp(arr))\n",
    "\n",
    "#sin\n",
    "print(np.sin(arr))\n",
    "\n",
    "#cos\n",
    "print(np.cos(arr))\n",
    "\n",
    "#tan\n",
    "print(np.tan(arr))"
   ]
  },
  {
   "cell_type": "code",
   "execution_count": 37,
   "id": "26f731dd",
   "metadata": {},
   "outputs": [
    {
     "name": "stdout",
     "output_type": "stream",
     "text": [
      "[[ 1  2  3  4  5]\n",
      " [ 6  7  8  9 10]\n",
      " [11 12 13 14 15]]\n"
     ]
    }
   ],
   "source": [
    "#slicing and indexing in \n",
    "\n",
    "import numpy as np\n",
    "\n",
    "arr10=np.array([[1,2,3,4,5],[6,7,8,9,10],[11,12,13,14,15]])\n",
    "print(arr10)"
   ]
  },
  {
   "cell_type": "code",
   "execution_count": 57,
   "id": "f2c45538",
   "metadata": {},
   "outputs": [
    {
     "data": {
      "text/plain": [
       "array([[1, 2],\n",
       "       [6, 7]])"
      ]
     },
     "execution_count": 57,
     "metadata": {},
     "output_type": "execute_result"
    }
   ],
   "source": [
    "#slicing\n",
    "\n",
    "arr10[1:,3:]\n",
    "arr10[0:2,2:4]\n",
    "arr10[0:2,0:2]"
   ]
  },
  {
   "cell_type": "code",
   "execution_count": 65,
   "id": "3017a3a7",
   "metadata": {},
   "outputs": [
    {
     "name": "stdout",
     "output_type": "stream",
     "text": [
      "4\n",
      "13\n",
      "4\n"
     ]
    }
   ],
   "source": [
    "#indexing\n",
    "\n",
    "print(arr10[0][3])\n",
    "print(arr10[2][2])\n",
    "print(arr10[-3][-2])"
   ]
  },
  {
   "cell_type": "code",
   "execution_count": 66,
   "id": "8f460e43",
   "metadata": {},
   "outputs": [
    {
     "name": "stdout",
     "output_type": "stream",
     "text": [
      "[[ 1  2  3 40  5]\n",
      " [ 6  7  8  9 10]\n",
      " [11 12 13 14 15]]\n"
     ]
    }
   ],
   "source": [
    "#modify array items\n",
    "\n",
    "arr10[0][3]=40\n",
    "print(arr10)"
   ]
  },
  {
   "cell_type": "code",
   "execution_count": 76,
   "id": "53e4dbfa",
   "metadata": {},
   "outputs": [
    {
     "name": "stdout",
     "output_type": "stream",
     "text": [
      "[False False False False False  True  True  True  True  True  True  True\n",
      "  True  True]\n",
      "[ True  True  True  True False False False False False False False False\n",
      " False False]\n"
     ]
    },
    {
     "data": {
      "text/plain": [
       "array([ 5,  6,  7,  8,  9, 10])"
      ]
     },
     "execution_count": 76,
     "metadata": {},
     "output_type": "execute_result"
    }
   ],
   "source": [
    "#logical operations\n",
    "\n",
    "import numpy as np\n",
    "\n",
    "arr11=np.array([1,2,3,4,5,6,7,8,9,10,11,12,13,14])\n",
    "\n",
    "print(arr11>5)\n",
    "print(arr11<5)\n",
    "arr11[(arr11>=5) & (arr11<=10)]"
   ]
  },
  {
   "cell_type": "code",
   "execution_count": null,
   "id": "69a8a243",
   "metadata": {},
   "outputs": [],
   "source": []
  }
 ],
 "metadata": {
  "kernelspec": {
   "display_name": "Python 3",
   "language": "python",
   "name": "python3"
  },
  "language_info": {
   "codemirror_mode": {
    "name": "ipython",
    "version": 3
   },
   "file_extension": ".py",
   "mimetype": "text/x-python",
   "name": "python",
   "nbconvert_exporter": "python",
   "pygments_lexer": "ipython3",
   "version": "3.12.0"
  }
 },
 "nbformat": 4,
 "nbformat_minor": 5
}
